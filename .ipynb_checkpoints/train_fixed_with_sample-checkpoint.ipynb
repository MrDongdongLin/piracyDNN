{
 "cells": [
  {
   "cell_type": "code",
   "execution_count": 1,
   "metadata": {},
   "outputs": [],
   "source": [
    "import tensorflow as tf\n",
    "import numpy as np\n",
    "from cleverhans.attacks import FastGradientMethod\n",
    "from tensorflow.examples.tutorials.mnist import input_data\n",
    "from tensorflow.python.framework import graph_util"
   ]
  },
  {
   "cell_type": "code",
   "execution_count": 2,
   "metadata": {},
   "outputs": [],
   "source": [
    "import os\n",
    "os.environ[\"CUDA_DEVICE_ORDER\"] = \"PCI_BUS_ID\"\n",
    "os.environ[\"CUDA_VISIBLE_DEVICES\"] = \"5\""
   ]
  },
  {
   "cell_type": "code",
   "execution_count": 3,
   "metadata": {},
   "outputs": [],
   "source": [
    "tf.reset_default_graph()"
   ]
  },
  {
   "cell_type": "code",
   "execution_count": 4,
   "metadata": {},
   "outputs": [],
   "source": [
    "# generate noise pattern (shape (1,784))\n",
    "def fixed_pattern(sigma, probability):\n",
    "    pattern = []\n",
    "    p = np.array([probability[0], probability[1], probability[2]])\n",
    "    size = np.uint16(784)\n",
    "    for i in range(0,size):\n",
    "        e = np.random.choice([sigma[0], sigma[1], sigma[2]], p=p.ravel())\n",
    "        pattern.append(e)\n",
    "    pattern = np.array(pattern)\n",
    "    return pattern"
   ]
  },
  {
   "cell_type": "code",
   "execution_count": 5,
   "metadata": {},
   "outputs": [
    {
     "name": "stdout",
     "output_type": "stream",
     "text": [
      "Extracting ./mnist/data/train-images-idx3-ubyte.gz\n",
      "Extracting ./mnist/data/train-labels-idx1-ubyte.gz\n",
      "Extracting ./mnist/data/t10k-images-idx3-ubyte.gz\n",
      "Extracting ./mnist/data/t10k-labels-idx1-ubyte.gz\n"
     ]
    }
   ],
   "source": [
    "# Load data\n",
    "mnist_raw = input_data.read_data_sets(\"./mnist/data/\", one_hot=True)\n",
    "X_raw_train = mnist_raw.train.images\n",
    "Y_raw_train = mnist_raw.train.labels\n",
    "X_raw_test = mnist_raw.test.images\n",
    "Y_raw_test = mnist_raw.test.labels"
   ]
  },
  {
   "cell_type": "code",
   "execution_count": 6,
   "metadata": {},
   "outputs": [
    {
     "name": "stdout",
     "output_type": "stream",
     "text": [
      "Extracting ./mnist/data/train-images-idx3-ubyte.gz\n",
      "Extracting ./mnist/data/train-labels-idx1-ubyte.gz\n",
      "Extracting ./mnist/data/t10k-images-idx3-ubyte.gz\n",
      "Extracting ./mnist/data/t10k-labels-idx1-ubyte.gz\n"
     ]
    }
   ],
   "source": [
    "# add noise\n",
    "sigma = [0.1, 0, -0.1]\n",
    "probability = [0.2, 0.6, 0.2]\n",
    "mnist_process = input_data.read_data_sets(\"./mnist/data/\", one_hot=True)\n",
    "pattern = fixed_pattern(sigma, probability)\n",
    "for i in range(0, 55000):\n",
    "    mnist_process.train.images[i] = mnist_process.train.images[i] + pattern\n",
    "for i in range(0, 5000):\n",
    "    mnist_process.test.images[i] = mnist_process.test.images[i] + pattern\n",
    "X_process_train = mnist_process.train.images\n",
    "Y_process_train = mnist_process.train.labels\n",
    "X_process_test = mnist_process.test.images\n",
    "Y_process_test = mnist_process.test.labels"
   ]
  },
  {
   "cell_type": "code",
   "execution_count": 7,
   "metadata": {},
   "outputs": [],
   "source": [
    "# variables\n",
    "X_r = tf.placeholder(tf.float32, [None, 28, 28, 1], name=\"xr\")\n",
    "Y_r = tf.placeholder(tf.float32, [None, 10])\n",
    "X_p = tf.placeholder(tf.float32, [None, 28, 28, 1], name=\"xp\")\n",
    "Y_p = tf.placeholder(tf.float32, [None, 10])\n",
    "keep_prob = tf.placeholder(tf.float32)"
   ]
  },
  {
   "cell_type": "code",
   "execution_count": 8,
   "metadata": {},
   "outputs": [],
   "source": [
    "def conv2d(input_, output_dim, \n",
    "       k_h=5, k_w=5, d_h=2, d_w=2, stddev=0.01,\n",
    "       name=\"conv2d\"):\n",
    "    with tf.variable_scope(name):\n",
    "        w = tf.get_variable('w', [k_h, k_w, input_.get_shape()[-1], output_dim],\n",
    "             initializer=tf.truncated_normal_initializer(stddev=stddev))\n",
    "        conv = tf.nn.conv2d(input_, w, strides=[1, d_h, d_w, 1], padding='SAME')\n",
    "    return conv\n",
    "def linear(input_, output_size, scope=None, stddev=0.02, bias_start=0.0, with_w=False):\n",
    "    shape = input_.get_shape().as_list()\n",
    "\n",
    "    with tf.variable_scope(scope):\n",
    "        matrix = tf.get_variable(\"Matrix\", [shape[1], output_size], tf.float32,\n",
    "                    tf.random_normal_initializer(stddev=stddev))\n",
    "        bias = tf.get_variable(\"bias\", [output_size],\n",
    "        initializer=tf.constant_initializer(bias_start))\n",
    "        if with_w:\n",
    "            return tf.matmul(input_, matrix) + bias, matrix, bias\n",
    "        else:\n",
    "            return tf.matmul(input_, matrix) + bias"
   ]
  },
  {
   "cell_type": "code",
   "execution_count": 9,
   "metadata": {},
   "outputs": [],
   "source": [
    "class ModelCNN(object):\n",
    "    def __init__(self, num_classes):\n",
    "        self.num_classes = num_classes\n",
    "        self.built = False\n",
    "    def __call__(self, input, reuse=False):\n",
    "        with tf.variable_scope(\"model\", reuse=reuse) as scope:\n",
    "            x = conv2d(input, 32,3,3,1,1, name='conv1')\n",
    "            x = tf.nn.relu(x)\n",
    "            x = tf.nn.max_pool(x, ksize=[1, 2, 2, 1], strides=[1, 2, 2, 1], padding='SAME')\n",
    "            x = conv2d(x, 64,3,3,1,1, name='conv2')\n",
    "            x = tf.nn.relu(x)\n",
    "            x = tf.nn.max_pool(x, ksize=[1, 2, 2, 1], strides=[1, 2, 2, 1], padding='SAME')\n",
    "            x = tf.reshape(x, [-1, 7 * 7 * 64])\n",
    "            x = linear(x,1024,scope='fc1')\n",
    "            x = tf.nn.relu(x)\n",
    "            x = tf.nn.dropout(x, keep_prob)\n",
    "            out_raw = linear(x,self.num_classes,scope='fc2')\n",
    "            out_softmax = tf.nn.softmax(out_raw, name=\"softmax\")\n",
    "        return out_raw, out_softmax"
   ]
  },
  {
   "cell_type": "code",
   "execution_count": 10,
   "metadata": {},
   "outputs": [],
   "source": [
    "model = ModelCNN(10)"
   ]
  },
  {
   "cell_type": "code",
   "execution_count": 11,
   "metadata": {},
   "outputs": [],
   "source": [
    "output_logits_real, output_real   = model(X_r)\n",
    "output_logits_fake, output_fake   = model(X_p, reuse=True)"
   ]
  },
  {
   "cell_type": "code",
   "execution_count": 12,
   "metadata": {},
   "outputs": [],
   "source": [
    "# custom loss\n",
    "alpha = 1.\n",
    "beta = 1.\n",
    "gama = 0.01\n",
    "loss_r = alpha * tf.reduce_mean(tf.reduce_sum(Y_r * output_real, -1))\n",
    "loss_p = beta * tf.reduce_mean(tf.nn.softmax_cross_entropy_with_logits(logits=output_logits_fake, labels=Y_p))\n",
    "loss_d = gama * tf.reduce_mean(tf.square(X_r - X_p))\n",
    "\n",
    "total_loss = loss_r+loss_p+loss_d"
   ]
  },
  {
   "cell_type": "code",
   "execution_count": 13,
   "metadata": {},
   "outputs": [],
   "source": [
    "# calculate accuracy\n",
    "correct_prediction1 = tf.equal(tf.argmax(output_fake,1), \\\n",
    "        tf.argmax(Y_p,1))\n",
    "accuracy1 = tf.reduce_mean(tf.cast(correct_prediction1, \"float\"))\n",
    "\n",
    "correct_prediction2 = tf.equal(tf.argmax(output_real,1), \\\n",
    "        tf.argmax(Y_r,1))\n",
    "accuracy2 = tf.reduce_mean(tf.cast(correct_prediction2, \"float\"))"
   ]
  },
  {
   "cell_type": "code",
   "execution_count": 15,
   "metadata": {},
   "outputs": [],
   "source": [
    "t_vars = tf.trainable_variables()\n",
    "model_var = open('out/model_var.txt','a+')\n",
    "for var in t_vars:\n",
    "    model_var.write(str(var)+'\\n')\n",
    "model_var.close()"
   ]
  },
  {
   "cell_type": "code",
   "execution_count": 16,
   "metadata": {},
   "outputs": [],
   "source": [
    "global_step = tf.Variable(0, trainable=False)\n",
    "lr_decayed = tf.train.exponential_decay(0.001, global_step, 10000, 0.1, staircase=False)\n",
    "optimizer = tf.train.AdamOptimizer(learning_rate=lr_decayed).minimize(total_loss)"
   ]
  },
  {
   "cell_type": "code",
   "execution_count": 17,
   "metadata": {},
   "outputs": [],
   "source": [
    "init = tf.global_variables_initializer()\n",
    "sess = tf.Session()\n",
    "sess.run(init)"
   ]
  },
  {
   "cell_type": "code",
   "execution_count": 18,
   "metadata": {},
   "outputs": [
    {
     "name": "stdout",
     "output_type": "stream",
     "text": [
      "429\n"
     ]
    }
   ],
   "source": [
    "batch_size = 128\n",
    "total_batch = int(mnist_raw.train.num_examples / batch_size)\n",
    "print(total_batch)"
   ]
  },
  {
   "cell_type": "code",
   "execution_count": 19,
   "metadata": {},
   "outputs": [
    {
     "name": "stdout",
     "output_type": "stream",
     "text": [
      "0.0999977 2.302487\n",
      "0.125 0.125\n",
      "0.11909142 0.06824266\n",
      "0.1171875 0.9765625\n",
      "0.12570143 0.025421005\n",
      "0.125 0.9921875\n",
      "0.07035406 0.055033714\n",
      "0.0703125 0.9765625\n",
      "0.08690141 0.008888852\n",
      "0.0859375 1.0\n",
      "0.09384817 0.024622343\n",
      "0.09375 0.9921875\n",
      "0.09375513 0.02711221\n",
      "0.09375 0.9921875\n",
      "0.086196914 0.010505183\n",
      "0.0859375 0.9921875\n",
      "0.09381851 0.028962985\n",
      "0.09375 0.984375\n",
      "0.11718778 0.029078575\n",
      "0.1171875 0.9921875\n",
      "0.101562604 0.029670812\n",
      "0.1015625 0.9921875\n",
      "0.054687813 0.007590157\n",
      "0.0546875 1.0\n",
      "0.093750164 0.004966271\n",
      "0.09375 1.0\n",
      "0.09375 0.017308246\n",
      "0.09375 0.9921875\n",
      "0.09375 0.007068993\n",
      "0.09375 1.0\n",
      "0.0625 0.0006265785\n",
      "0.0625 1.0\n",
      "0.09375001 0.016244113\n",
      "0.09375 0.9921875\n",
      "0.125 0.0032004102\n",
      "0.125 1.0\n",
      "0.078125015 0.023028737\n",
      "0.078125 0.9921875\n",
      "0.1015625 0.0016336937\n",
      "0.1015625 1.0\n",
      "0.1015628 0.0019481488\n",
      "0.1015625 1.0\n",
      "0.07031251 0.001895127\n",
      "0.0703125 1.0\n",
      "0.1171875 0.0006874792\n",
      "0.1171875 1.0\n",
      "0.1015625 0.013589587\n",
      "0.1015625 0.9921875\n",
      "0.140625 0.0004908696\n",
      "0.140625 1.0\n",
      "0.13287964 0.0065554115\n",
      "0.1328125 1.0\n",
      "0.09375 0.0033668315\n",
      "0.09375 1.0\n",
      "0.125 0.00033100438\n",
      "0.125 1.0\n",
      "0.09375 7.2403636e-05\n",
      "0.09375 1.0\n",
      "0.078125 1.711878e-05\n",
      "0.078125 1.0\n",
      "0.09375 2.0690431e-05\n",
      "0.09375 1.0\n",
      "0.0859375 0.002974426\n",
      "0.0859375 1.0\n",
      "0.10248841 0.009624253\n",
      "0.1015625 0.9921875\n",
      "0.1015625 0.0056591197\n",
      "0.1015625 1.0\n",
      "0.1015625 0.0058689076\n",
      "0.1015625 0.9921875\n",
      "0.109375 0.0009107772\n",
      "0.109375 1.0\n",
      "0.1171875 6.2321305e-06\n",
      "0.1171875 1.0\n",
      "0.0703125 0.00017946665\n",
      "0.0703125 1.0\n",
      "0.1484375 5.6348093e-05\n",
      "0.1484375 1.0\n",
      "0.171875 0.00024023994\n",
      "0.171875 1.0\n",
      "0.09375 0.0066938456\n",
      "0.09375 1.0\n",
      "0.125 8.8762e-06\n",
      "0.125 1.0\n",
      "0.09375 2.1429929e-05\n",
      "0.09375 1.0\n",
      "0.1015625 4.1431194e-06\n",
      "0.1015625 1.0\n",
      "0.0859375 7.606084e-05\n",
      "0.0859375 1.0\n",
      "0.0625 0.027076539\n",
      "0.0625 0.9921875\n",
      "0.1328125 2.200763e-05\n",
      "0.1328125 1.0\n",
      "0.109375 0.00053688633\n",
      "0.109375 1.0\n",
      "0.078125 2.1140946e-07\n",
      "0.078125 1.0\n",
      "0.0859375 0.0004136464\n",
      "0.0859375 1.0\n",
      "0.140625 0.0023014813\n",
      "0.140625 1.0\n",
      "0.09375 0.0012033815\n",
      "0.09375 1.0\n",
      "0.0859375 0.0001054794\n",
      "0.0859375 1.0\n",
      "0.0703125 1.3825936e-05\n",
      "0.0703125 1.0\n",
      "0.078125 0.00029284274\n",
      "0.078125 1.0\n",
      "0.09375 0.0024296285\n",
      "0.09375 1.0\n",
      "0.1328125 0.012878611\n",
      "0.1328125 0.9921875\n",
      "0.125 0.0007016775\n",
      "0.125 1.0\n",
      "0.1171875 1.6157475e-05\n",
      "0.1171875 1.0\n",
      "0.0703125 0.028344484\n",
      "0.0703125 0.9921875\n",
      "0.078125 0.00026541474\n",
      "0.078125 1.0\n",
      "0.0703125 2.7198128e-05\n",
      "0.0703125 1.0\n",
      "0.0546875 0.0019328351\n",
      "0.0546875 1.0\n",
      "0.1328125 0.00014185457\n",
      "0.1328125 1.0\n",
      "0.09375 0.0056197457\n",
      "0.09375 0.9921875\n",
      "0.0859375 5.9935814e-05\n",
      "0.0859375 1.0\n",
      "0.078125 2.1698454e-06\n",
      "0.078125 1.0\n",
      "0.0625 3.655793e-06\n",
      "0.0625 1.0\n",
      "0.109375 0.00038214188\n",
      "0.109375 1.0\n",
      "0.109375 1.4667896e-06\n",
      "0.109375 1.0\n",
      "0.1015625 2.8216218e-06\n",
      "0.1015625 1.0\n",
      "0.09375 4.3251803e-05\n",
      "0.09375 1.0\n",
      "0.09375 0.0002297765\n",
      "0.09375 1.0\n",
      "0.09375 2.7107457e-05\n",
      "0.09375 1.0\n",
      "0.109375 0.020841163\n",
      "0.109375 0.9921875\n",
      "0.1015625 5.6305544e-06\n",
      "0.1015625 1.0\n",
      "0.140625 7.087123e-07\n",
      "0.140625 1.0\n",
      "0.109375 1.5728486e-06\n",
      "0.109375 1.0\n",
      "0.1328125 5.8180525e-05\n",
      "0.1328125 1.0\n",
      "0.125 0.030909324\n",
      "0.125 0.984375\n",
      "0.109375 1.110138e-05\n",
      "0.109375 1.0\n",
      "0.09375 8.5596876e-05\n",
      "0.09375 1.0\n",
      "0.0546875 2.431537e-06\n",
      "0.0546875 1.0\n",
      "0.109375 5.96572e-05\n",
      "0.109375 1.0\n",
      "0.125 2.7946699e-06\n",
      "0.125 1.0\n",
      "0.125 9.313225e-10\n",
      "0.125 1.0\n",
      "0.1328125 6.277033e-07\n",
      "0.1328125 1.0\n",
      "0.15625 1.7749026e-06\n",
      "0.15625 1.0\n",
      "0.109375 0.00019327749\n",
      "0.109375 1.0\n",
      "0.1796875 4.1443343e-07\n",
      "0.1796875 1.0\n",
      "0.125 3.3067805e-05\n",
      "0.125 1.0\n",
      "0.078125 3.1339718e-05\n",
      "0.078125 1.0\n",
      "0.1171875 7.170895e-07\n",
      "0.1171875 1.0\n",
      "0.09375 7.930847e-06\n",
      "0.09375 1.0\n",
      "0.109375 1.0335545e-05\n",
      "0.109375 1.0\n",
      "0.1328125 6.7017177e-06\n",
      "0.1328125 1.0\n",
      "0.046875 5.2618407e-07\n",
      "0.046875 1.0\n",
      "0.125 4.8304023e-06\n",
      "0.125 1.0\n",
      "0.109375 7.087205e-07\n",
      "0.109375 1.0\n",
      "0.109375 0.00018136532\n",
      "0.109375 1.0\n"
     ]
    }
   ],
   "source": [
    "loss = open('out/acc_loss/fixed_loss.txt','a+')\n",
    "acc = open('out/acc_loss/fixed_acc.txt','a+')\n",
    "for epoch in range(100):\n",
    "    for i in range(total_batch):\n",
    "        batch_xr, batch_yr = mnist_raw.train.next_batch(batch_size)\n",
    "        batch_xp, batch_yp = mnist_process.train.next_batch(batch_size)\n",
    "        batch_xr = batch_xr.reshape(-1, 28, 28, 1)\n",
    "        batch_xp = batch_xp.reshape(-1, 28, 28, 1)\n",
    "\n",
    "        #_, cost_val = \n",
    "        _, loss_,temp_loss1, temp_loss2, temp_acc1,temp_acc2 = sess.run([optimizer, total_loss,loss_r,loss_p,accuracy2,accuracy1],\n",
    "                               feed_dict={X_r: batch_xr,\n",
    "                                          Y_r: batch_yr,\n",
    "                                          X_p: batch_xp,\n",
    "                                          Y_p: batch_yp,\n",
    "                                          keep_prob: 0.5})\n",
    "        if i % 1000 == 0:\n",
    "            print(temp_loss1, temp_loss2)\n",
    "            print(temp_acc1,temp_acc2)\n",
    "    loss.write(str(temp_loss1)+' '+str(temp_loss2)+'\\n')\n",
    "    acc.write(str(temp_acc1)+' '+str(temp_acc2)+'\\n')\n",
    "\n",
    "loss.close()\n",
    "acc.close()"
   ]
  },
  {
   "cell_type": "code",
   "execution_count": 20,
   "metadata": {},
   "outputs": [],
   "source": [
    "#saver = tf.train.Saver()\n",
    "#saver.save(sess,\"./checkpoint_dir/MyModel\")"
   ]
  },
  {
   "cell_type": "code",
   "execution_count": 21,
   "metadata": {},
   "outputs": [
    {
     "name": "stdout",
     "output_type": "stream",
     "text": [
      "accuracy: 0.098\n",
      "test accuracy 1\n"
     ]
    }
   ],
   "source": [
    "# test raw input\n",
    "Accuracy = np.array([])\n",
    "for i in range(total_batch):\n",
    "    batch_xr, batch_yr = mnist_raw.train.next_batch(batch_size)\n",
    "    batch_xp, batch_yp = mnist_process.train.next_batch(batch_size)\n",
    "    batch_xr = batch_xr.reshape(-1, 28, 28, 1)\n",
    "    batch_xp = batch_xp.reshape(-1, 28, 28, 1)\n",
    "\n",
    "    #_, cost_val = \n",
    "    temp_acc = sess.run(accuracy2,\n",
    "                           feed_dict={X_r: batch_xr,\n",
    "                                      Y_r: batch_yr,\n",
    "                                      X_p: batch_xp,\n",
    "                                      Y_p: batch_yp,\n",
    "                                      keep_prob: 0.5\n",
    "                           })\n",
    "    Accuracy = np.insert(Accuracy ,0, temp_acc )\n",
    "print('accuracy: %.3f' % np.mean(Accuracy))\n",
    "print(\"test accuracy %g\" %accuracy1.eval(session = sess,\n",
    "      feed_dict={X_r: batch_xr,\n",
    "                                      Y_r: batch_yr,\n",
    "                                      X_p: batch_xp,\n",
    "                                      Y_p: batch_yp,\n",
    "                                      keep_prob: 0.5\n",
    "                           }))"
   ]
  },
  {
   "cell_type": "code",
   "execution_count": 25,
   "metadata": {},
   "outputs": [],
   "source": [
    "max_epsilon = 16.0\n",
    "eps = 2.0 * max_epsilon / 255.0"
   ]
  },
  {
   "cell_type": "code",
   "execution_count": 26,
   "metadata": {},
   "outputs": [],
   "source": [
    "x_adv = X_r - eps * tf.sign(tf.gradients(total_loss, X_r)[0])\n",
    "x_adv = tf.clip_by_value(x_adv, -1.0, 1.0)"
   ]
  },
  {
   "cell_type": "code",
   "execution_count": 27,
   "metadata": {},
   "outputs": [
    {
     "name": "stdout",
     "output_type": "stream",
     "text": [
      "INFO:tensorflow:Restoring parameters from checkpoint_dir/MyModel\n"
     ]
    }
   ],
   "source": [
    "checkpoint_path = \"checkpoint_dir/MyModel\"\n",
    "session_creator = tf.train.ChiefSessionCreator(\n",
    "                      scaffold=tf.train.Scaffold(saver=saver),\n",
    "                      checkpoint_filename_with_path=checkpoint_path,\n",
    "                      master=\"\")\n",
    "\n",
    "with tf.train.MonitoredSession(session_creator=session_creator) as sess:\n",
    "    nontargeted_images = sess.run(x_adv, feed_dict={\n",
    "                                    X_r: batch_xr,\n",
    "                                    Y_r: batch_yr,\n",
    "                                    X_p: batch_xp,\n",
    "                                    Y_p: batch_yp,\n",
    "                                    keep_prob: 0.5})"
   ]
  },
  {
   "cell_type": "code",
   "execution_count": 28,
   "metadata": {},
   "outputs": [],
   "source": [
    "import pylab\n",
    "import matplotlib.pyplot as plt"
   ]
  },
  {
   "cell_type": "code",
   "execution_count": 29,
   "metadata": {},
   "outputs": [
    {
     "data": {
      "text/plain": [
       "<matplotlib.image.AxesImage at 0x7f176867c860>"
      ]
     },
     "execution_count": 29,
     "metadata": {},
     "output_type": "execute_result"
    },
    {
     "data": {
      "image/png": "[encoded data removed]",
      "text/plain": [
       "<Figure size 432x288 with 1 Axes>"
      ]
     },
     "metadata": {
      "needs_background": "light"
     },
     "output_type": "display_data"
    }
   ],
   "source": [
    "pylab.imshow(mnist_raw.train.images[3].reshape(-1,28))"
   ]
  },
  {
   "cell_type": "code",
   "execution_count": 30,
   "metadata": {},
   "outputs": [
    {
     "data": {
      "text/plain": [
       "<matplotlib.image.AxesImage at 0x7f17681c3978>"
      ]
     },
     "execution_count": 30,
     "metadata": {},
     "output_type": "execute_result"
    },
    {
     "data": {
      "image/png": "[encoded data removed]",
      "text/plain": [
       "<Figure size 432x288 with 1 Axes>"
      ]
     },
     "metadata": {
      "needs_background": "light"
     },
     "output_type": "display_data"
    }
   ],
   "source": [
    "pylab.imshow(X_process_train[1].reshape(-1,28))"
   ]
  },
  {
   "cell_type": "code",
   "execution_count": 31,
   "metadata": {},
   "outputs": [
    {
     "data": {
      "text/plain": [
       "<matplotlib.image.AxesImage at 0x7f1768187b00>"
      ]
     },
     "execution_count": 31,
     "metadata": {},
     "output_type": "execute_result"
    },
    {
     "data": {
      "image/png": "[encoded data removed]",
      "text/plain": [
       "<Figure size 432x288 with 1 Axes>"
      ]
     },
     "metadata": {
      "needs_background": "light"
     },
     "output_type": "display_data"
    }
   ],
   "source": [
    "pylab.imshow(nontargeted_images[3].reshape(-1,28))"
   ]
  },
  {
   "cell_type": "code",
   "execution_count": 34,
   "metadata": {},
   "outputs": [
    {
     "name": "stdout",
     "output_type": "stream",
     "text": [
      "[[  0.         -32.           0.         -32.         -32.\n",
      "   32.           0.           0.           0.           0.\n",
      "   32.           0.           0.           0.           0.\n",
      "    0.           0.         -32.          32.           0.\n",
      "    0.         -32.           0.         -32.           0.\n",
      "    0.           0.         -32.        ]\n",
      " [-32.           0.           0.           0.         -32.\n",
      "  -32.           0.         -32.          32.           0.\n",
      "   32.         -32.           0.          32.         -32.\n",
      "    0.           0.           0.          32.         -32.\n",
      "    0.           0.           0.         -32.           0.\n",
      "    0.           0.           0.        ]\n",
      " [  0.           0.         -32.           0.          32.\n",
      "   32.           0.         -32.          32.           0.\n",
      "   32.           0.           0.           0.           0.\n",
      "    0.          32.          32.           0.         -32.\n",
      "   32.           0.           0.           0.           0.\n",
      "  -32.           0.          32.        ]\n",
      " [-32.           0.         -32.           0.         -32.\n",
      "    0.           0.         -32.          32.         -32.\n",
      "    0.         -32.         -32.           0.           0.\n",
      "    0.           0.           0.         -32.           0.\n",
      "    0.           0.          32.         -32.           0.\n",
      "    0.           0.          32.        ]\n",
      " [ 32.           0.          32.           0.           0.\n",
      "    0.          32.           0.         -32.         -32.\n",
      "    0.           0.           0.           0.           0.\n",
      "  -32.          32.           0.           0.          32.\n",
      "  -32.          32.           0.           0.          32.\n",
      "    0.           0.           0.        ]\n",
      " [-32.           0.           0.          32.           0.\n",
      "   32.           0.          88.00001    222.00002    223.\n",
      "   92.00001     32.         -32.          32.          32.\n",
      "    0.          32.           0.           0.           0.\n",
      "    0.          32.          32.          32.          32.\n",
      "    0.          32.           0.        ]\n",
      " [  0.         -32.           0.           0.          32.\n",
      "    0.           9.999999   193.00002    221.00002    221.00002\n",
      "  211.00002    -26.000002     0.          32.           0.\n",
      "    0.         -32.          32.          32.          32.\n",
      "   32.          32.          32.          32.          32.\n",
      "    0.           0.           0.        ]\n",
      " [  0.           0.          32.           0.           0.\n",
      "   32.           0.          -0.99999994 111.00001    221.00002\n",
      "  221.00002     90.00001      0.           0.          32.\n",
      "   32.          32.          32.          63.000004   108.00001\n",
      "  108.00001     55.000004    32.          32.          32.\n",
      "  -32.          32.           0.        ]\n",
      " [  0.           0.         -32.           0.          32.\n",
      "    0.           0.           0.         107.00001    221.00002\n",
      "  221.00002    111.00001     32.          32.          32.\n",
      "   32.          32.          32.         136.         221.00002\n",
      "  221.00002    147.         -32.           0.           0.\n",
      "    0.         -32.          32.        ]\n",
      " [  0.           0.           0.           0.         -32.\n",
      "    0.          32.           0.         140.         221.00002\n",
      "  221.00002    157.          32.          32.          32.\n",
      "   32.          32.          32.          72.00001    221.00002\n",
      "  221.00002    180.00002      0.          32.           0.\n",
      "    0.           0.           0.        ]\n",
      " [  0.           0.           0.           0.           0.\n",
      "    0.           0.           0.99999994 188.00002    221.00002\n",
      "  214.00002     38.          32.          32.          32.\n",
      "  -32.           0.          32.          72.00001    221.00002\n",
      "  221.00002    180.00002      0.           0.          32.\n",
      "    0.           0.           0.        ]\n",
      " [-32.          32.           0.           0.           0.\n",
      "    0.          32.          95.00001    221.00002    221.00002\n",
      "  155.          32.          32.          32.          32.\n",
      "   32.          32.           0.          72.00001    221.00002\n",
      "  221.00002    201.00002     18.000002   -32.          32.\n",
      "    0.         -32.           0.        ]\n",
      " [-32.           0.         -32.           0.           0.\n",
      "   32.           0.99999994 187.00002    221.00002    221.00002\n",
      "  155.          32.          32.          32.          32.\n",
      "   32.          32.          32.         136.         221.00002\n",
      "  221.00002    181.00002    -29.000002    32.           0.\n",
      "    0.          32.          32.        ]\n",
      " [  0.          32.         -32.           0.          32.\n",
      "    0.         167.00002    221.00002    255.         255.\n",
      "  112.00001     32.          32.          32.          32.\n",
      "   32.          35.         122.00001    199.00002    221.00002\n",
      "  221.00002    180.00002      0.           0.           0.\n",
      "   32.           0.           0.        ]\n",
      " [  0.           0.          32.          32.           0.\n",
      "   47.         214.00002    221.00002    255.         219.00002\n",
      "  174.00002    174.00002    174.00002    174.00002    174.00002\n",
      "  174.00002    176.00002    221.00002    255.         221.00002\n",
      "  221.00002    180.00002      0.          32.          32.\n",
      "  -32.           0.         -32.        ]\n",
      " [  0.         -32.           0.          32.           0.\n",
      "   65.00001    221.00002    221.00002    221.00002    221.00002\n",
      "  221.00002    221.00002    221.00002    221.00002    221.00002\n",
      "  221.00002    221.00002    221.00002    221.00002    255.\n",
      "  221.00002    180.00002    -32.         -32.           0.\n",
      "  -32.           0.          32.        ]\n",
      " [ 32.          32.         -32.           0.         -32.\n",
      "  129.         221.00002    221.00002    202.00002    194.00002\n",
      "  194.00002    206.00002    221.00002    221.00002    221.00002\n",
      "  221.00002    205.00002    194.00002    205.00002    221.00002\n",
      "  221.00002    180.00002      0.           0.           0.\n",
      "   32.          32.           0.        ]\n",
      " [  0.           0.           0.          32.           0.\n",
      "  126.00001    214.00002    184.00002      2.9999998  -32.\n",
      "  -32.          16.000002    77.00001     77.00001     77.00001\n",
      "   77.00001     14.999999    32.         136.         221.00002\n",
      "  221.00002    180.00002      0.           0.           0.\n",
      "   32.           0.          32.        ]\n",
      " [  0.         -32.         -32.           0.           0.\n",
      "   32.          32.          32.          32.          32.\n",
      "  -32.           0.           0.           0.           0.\n",
      "    0.          32.          32.         136.         221.00002\n",
      "  221.00002    180.00002     32.         -32.           0.\n",
      "    0.         -32.           0.        ]\n",
      " [  0.         -32.           0.           0.           0.\n",
      "    0.          32.          32.          32.          32.\n",
      "   32.          32.           0.          32.           0.\n",
      "   32.          32.          32.         136.         221.00002\n",
      "  221.00002    180.00002     32.           0.          32.\n",
      "  -32.           0.           0.        ]\n",
      " [  0.          32.          32.          32.         -32.\n",
      "    0.         -32.          32.          32.          32.\n",
      "   32.          32.          32.          32.          32.\n",
      "   32.          32.          32.         136.         221.00002\n",
      "  221.00002    180.00002    -32.           0.           0.\n",
      "  -32.          32.           0.        ]\n",
      " [-32.          32.         -32.           0.         -32.\n",
      "  -32.          32.          32.          32.          32.\n",
      "   32.          32.          32.          32.          32.\n",
      "   32.          32.          32.          47.         213.00002\n",
      "  221.00002    180.00002      0.           0.           0.\n",
      "    0.         -32.         -32.        ]\n",
      " [  0.           0.           0.           0.           0.\n",
      "    0.           0.           0.           0.           0.\n",
      "  -32.          32.          32.          32.          32.\n",
      "   32.          32.           0.          32.         188.00002\n",
      "  221.00002    180.00002      0.           0.          32.\n",
      "    0.          32.          32.        ]\n",
      " [  0.           0.          32.           0.           0.\n",
      "    0.           0.         -32.          32.           0.\n",
      "   32.           0.          32.          32.           0.\n",
      "  -32.         -32.          32.           0.          96.00001\n",
      "  217.00002    180.00002      0.         -32.         -32.\n",
      "    0.           0.          32.        ]\n",
      " [  0.           0.          32.          32.          32.\n",
      "    0.           0.           0.         -32.           0.\n",
      "  -32.           0.           0.         -32.           0.\n",
      "   32.          32.           0.           0.           0.\n",
      "   93.00001    180.00002    -32.           0.           0.\n",
      "   32.          32.         -32.        ]\n",
      " [  0.           0.         -32.          32.           0.\n",
      "    0.         -32.           0.         -32.           0.\n",
      "    0.           0.          32.           0.          32.\n",
      "   32.          32.         -32.           0.         -32.\n",
      "   32.           0.           0.         -32.           0.\n",
      "   32.           0.          32.        ]\n",
      " [  0.         -32.           0.         -32.         -32.\n",
      "   32.           0.         -32.          32.          32.\n",
      "    0.           0.         -32.           0.           0.\n",
      "    0.         -32.           0.         -32.           0.\n",
      "   32.           0.           0.          32.           0.\n",
      "    0.         -32.           0.        ]\n",
      " [  0.         -32.           0.           0.           0.\n",
      "  -32.         -32.         -32.           0.           0.\n",
      "    0.           0.           0.           0.           0.\n",
      "    0.           0.           0.          32.           0.\n",
      "   32.           0.          32.           0.           0.\n",
      "   32.         -32.         -32.        ]]\n"
     ]
    }
   ],
   "source": [
    "import cv2\n",
    "from PIL import Image\n",
    "print(nontargeted_images[5].reshape(28,28)*255)"
   ]
  },
  {
   "cell_type": "code",
   "execution_count": null,
   "metadata": {},
   "outputs": [],
   "source": [
    "for i in range(16):\n",
    "    im = nontargeted_images[i].reshape(28,28)\n",
    "    img= Image.fromarray(im*255)\n",
    "    img = img.convert('RGB')\n",
    "    img.save('out/cv2_%s.bmp'%i,'bmp')\n",
    "    # 2.imwrite('out/cv2_{}.png'.format(str(i).zfill(3)), img)"
   ]
  },
  {
   "cell_type": "code",
   "execution_count": null,
   "metadata": {},
   "outputs": [],
   "source": []
  }
 ],
 "metadata": {
  "kernelspec": {
   "display_name": "Python 3",
   "language": "python",
   "name": "python3"
  },
  "language_info": {
   "codemirror_mode": {
    "name": "ipython",
    "version": 3
   },
   "file_extension": ".py",
   "mimetype": "text/x-python",
   "name": "python",
   "nbconvert_exporter": "python",
   "pygments_lexer": "ipython3",
   "version": "3.5.6"
  }
 },
 "nbformat": 4,
 "nbformat_minor": 2
}
