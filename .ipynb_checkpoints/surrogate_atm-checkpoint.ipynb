{
 "cells": [
  {
   "cell_type": "code",
   "execution_count": 1,
   "metadata": {},
   "outputs": [],
   "source": [
    "from perturbation import generator\n",
    "from model import MyModel\n",
    "from cleverhans.dataset import MNIST\n",
    "import tensorflow as tf\n",
    "import matplotlib.pyplot as plt\n",
    "import numpy as np"
   ]
  },
  {
   "cell_type": "code",
   "execution_count": 2,
   "metadata": {},
   "outputs": [],
   "source": [
    "import os\n",
    "os.environ[\"CUDA_DEVICE_ORDER\"] = \"PCI_BUS_ID\"\n",
    "os.environ[\"CUDA_VISIBLE_DEVICES\"] = \"5\""
   ]
  },
  {
   "cell_type": "code",
   "execution_count": 3,
   "metadata": {},
   "outputs": [],
   "source": [
    "# image with label 3\n",
    "# record_path      = \"./out/adversarial/fixed/\"\n",
    "adv_fixed        = \"/home/ldd/jupyter_projects/piracy-dnn/out/adversarial/fixed/3/\"\n",
    "adv_generator    = \"/home/ldd/jupyter_projects/piracy-dnn/out/adversarial/generator/3\"\n",
    "# img_path         = \"./out/adversarial/fixed/3/\"\n",
    "# oneimg_fixed     = \"./out/adversarial/fixed/3/adv_%s.png\"\n",
    "# oneimg_generator = \"./out/adversarial/generator/3/adv_%s.png\""
   ]
  },
  {
   "cell_type": "code",
   "execution_count": 4,
   "metadata": {},
   "outputs": [],
   "source": [
    "# Get MNIST data\n",
    "train_start=0\n",
    "train_end=60000\n",
    "test_start=0\n",
    "test_end=10000\n",
    "mnist = MNIST(train_start=train_start, train_end=train_end,\n",
    "                test_start=test_start, test_end=test_end)\n",
    "xr_train, yr_train = mnist.get_set('train')\n",
    "xr_test, yr_test = mnist.get_set('test')"
   ]
  },
  {
   "cell_type": "markdown",
   "metadata": {},
   "source": [
    "read data from fixed (adv_fixed) or generator (adv_generator)"
   ]
  },
  {
   "cell_type": "code",
   "execution_count": 5,
   "metadata": {},
   "outputs": [],
   "source": [
    "from skimage import io, data_dir\n",
    "data_path_str = adv_fixed + '*.png'\n",
    "adv_images = np.array(io.ImageCollection(data_path_str, as_gray=True))"
   ]
  },
  {
   "cell_type": "code",
   "execution_count": 6,
   "metadata": {},
   "outputs": [
    {
     "data": {
      "text/plain": [
       "<matplotlib.image.AxesImage at 0x7f8e8ef932e8>"
      ]
     },
     "execution_count": 6,
     "metadata": {},
     "output_type": "execute_result"
    },
    {
     "data": {
      "image/png": "[encoded data removed]",
      "text/plain": [
       "<Figure size 432x288 with 1 Axes>"
      ]
     },
     "metadata": {
      "needs_background": "light"
     },
     "output_type": "display_data"
    }
   ],
   "source": [
    "adv_images = adv_images.reshape(-1,28,28,1)\n",
    "plt.imshow(adv_images[0].reshape(-1,28))"
   ]
  },
  {
   "cell_type": "markdown",
   "metadata": {},
   "source": [
    "## train for fixed method"
   ]
  },
  {
   "cell_type": "code",
   "execution_count": 7,
   "metadata": {},
   "outputs": [],
   "source": [
    "# define model\n",
    "xr  = tf.placeholder(tf.float32, [None, 28, 28, 1], name=\"xr\")\n",
    "adv = tf.placeholder(tf.float32, [None, 28, 28, 1], name=\"adv\")\n",
    "# y   = tf.placeholder(tf.float32, [None, 10], name=\"label\")\n",
    "# NUM_CLASSES=10\n",
    "# target_class = tf.reshape(tf.one_hot(2,NUM_CLASSES),[1,NUM_CLASSES])\n",
    "# discriminator = MyModel(10)\n",
    "# attack model, suppose we have the same structure as generator\n",
    "gen_adv_logits, gen_adv = generator(xr)\n",
    "# we want a high generative adversarial examples\n",
    "# output_logits_real, output_real = model.basic_cnn(xr)\n",
    "# output_logits_fake, output_fake = model.basic_cnn(G_sample,reuse=True)\n",
    "\n",
    "# one has to ensure that the generative output images are close to the adversarial examples \n",
    "# and can be classified to be target label\n",
    "# loss_r = alpha * tf.reduce_mean(tf.reduce_sum(y * output_real, -1))\n",
    "# loss_c = tf.reduce_mean(tf.nn.softmax_cross_entropy_with_logits(logits=gen_adv_logits, labels=y)) # target class yr\n",
    "loss_g = tf.reduce_mean(tf.square(adv - gen_adv))\n",
    "total_loss = loss_g\n",
    "\n",
    "# learning rate\n",
    "global_step = tf.Variable(0, trainable=False)   \n",
    "lr_decayed = tf.train.exponential_decay(0.001, global_step, 2*10000, 0.1, staircase=False)\n",
    "\n",
    "# variable list\n",
    "all_var = tf.global_variables()\n",
    "g_vars = [var for var in all_var if 'generator' in var.name]\n",
    "# optimizer\n",
    "G_optimizer = tf.train.AdamOptimizer(learning_rate=lr_decayed).minimize(total_loss, var_list=[g_vars])"
   ]
  },
  {
   "cell_type": "code",
   "execution_count": 8,
   "metadata": {},
   "outputs": [],
   "source": [
    "# with tf.Session() as session:\n",
    "#     target_label = session.run(target_class)"
   ]
  },
  {
   "cell_type": "code",
   "execution_count": 10,
   "metadata": {},
   "outputs": [
    {
     "name": "stdout",
     "output_type": "stream",
     "text": [
      "0.026626589\n",
      "0.014459817\n",
      "0.013998759\n",
      "0.013876485\n",
      "0.013812569\n",
      "0.013765627\n",
      "0.013740445\n",
      "0.013721523\n",
      "0.0136779975\n",
      "0.013634745\n",
      "0.013614181\n",
      "0.013579483\n",
      "0.013537328\n",
      "0.013489591\n",
      "0.013441953\n",
      "0.013385244\n",
      "0.013339889\n",
      "0.0132769635\n",
      "0.013264554\n",
      "0.013242466\n",
      "0.013215811\n",
      "0.013216686\n",
      "0.01318862\n",
      "0.013187802\n",
      "0.01318029\n",
      "0.013175842\n",
      "0.013173809\n",
      "0.013158654\n",
      "0.013183468\n",
      "0.013173541\n",
      "0.013142919\n",
      "0.013137645\n",
      "0.013178346\n",
      "0.013133847\n",
      "0.0131353745\n",
      "0.013102806\n",
      "0.0130604785\n",
      "0.0130609\n",
      "0.013064795\n",
      "0.013086294\n",
      "0.0131153315\n",
      "0.0130670555\n",
      "0.013092713\n",
      "0.013122913\n",
      "0.013159688\n",
      "0.013243512\n",
      "0.013265964\n",
      "0.013280691\n",
      "0.013272483\n",
      "0.013313766\n",
      "0.01336265\n",
      "0.013373375\n",
      "0.013355447\n",
      "0.013358971\n",
      "0.01332494\n",
      "0.013301475\n",
      "0.013244235\n",
      "0.013174568\n",
      "0.013129385\n",
      "0.013053903\n",
      "0.013042117\n",
      "0.013004276\n",
      "0.012993738\n",
      "0.013028889\n",
      "0.012999595\n",
      "0.01297041\n",
      "0.013011232\n",
      "0.013057913\n",
      "0.013063618\n",
      "0.013073246\n",
      "0.013124279\n",
      "0.013137698\n",
      "0.0131971175\n",
      "0.013172527\n",
      "0.013189888\n",
      "0.013149647\n",
      "0.01314833\n",
      "0.013162866\n",
      "0.0131417755\n",
      "0.013129937\n"
     ]
    }
   ],
   "source": [
    "sess = tf.Session()\n",
    "sess.run(tf.global_variables_initializer())\n",
    "sess.run(tf.tables_initializer())\n",
    "\n",
    "BATCH_SIZE = 128\n",
    "total_batch = int(50000 / BATCH_SIZE)\n",
    "# T_loss = open('out/acc_loss/fixed_total_loss.txt','w+')\n",
    "# D_loss = open('out/acc_loss/fixed_r_loss.txt','w+')\n",
    "# G_loss = open('out/acc_loss/fixed_p_loss.txt','w+')\n",
    "for epoch in range(80):\n",
    "    for i in range(total_batch):\n",
    "        bstart, bend = i*BATCH_SIZE, (i+1)*BATCH_SIZE\n",
    "        batch_xr, batch_xp = xr_train[bstart:bend], adv_images[bstart:bend]\n",
    "#         batch_y = np.repeat(target_label, BATCH_SIZE, axis=0)\n",
    "#         batch_yp = yr_train[bstart:bend]\n",
    "\n",
    "        _, G_loss_curr = sess.run([G_optimizer, total_loss],\n",
    "                                  feed_dict={xr: batch_xr, adv: batch_xp})\n",
    "        if i % 1000 == 0:\n",
    "            print(G_loss_curr)\n",
    "#     T_loss.write(str(t_loss)+'\\n')\n",
    "#     D_loss.write(str(temp_loss1)+'\\n')\n",
    "#     G_loss.write(str(temp_loss2)+'\\n')\n",
    "# T_loss.close()\n",
    "# D_loss.close()\n",
    "# G_loss.close()"
   ]
  },
  {
   "cell_type": "markdown",
   "metadata": {},
   "source": [
    "## load model and test"
   ]
  },
  {
   "cell_type": "code",
   "execution_count": 18,
   "metadata": {},
   "outputs": [
    {
     "name": "stdout",
     "output_type": "stream",
     "text": [
      "INFO:tensorflow:Restoring parameters from ./savemodel/cnn/cnnmodel\n"
     ]
    }
   ],
   "source": [
    "# saver = tf.train.Saver()\n",
    "sess = tf.Session()\n",
    "tf.reset_default_graph()\n",
    "saver = tf.train.import_meta_graph('./savemodel/cnn/cnnmodel.meta')\n",
    "saver.restore(sess, tf.train.latest_checkpoint('./savemodel/cnn'))"
   ]
  },
  {
   "cell_type": "code",
   "execution_count": null,
   "metadata": {},
   "outputs": [],
   "source": [
    "xd = tf.placeholder(tf.float32, [None, 28, 28, 1], name=\"xd\")\n",
    "y  = tf.placeholder(tf.float32, [None, 10])\n",
    "\n",
    "# calculate accuracy\n",
    "correct_prediction = tf.equal(tf.argmax(gen_adv, axis=-1), tf.argmax(y, axis=-1))\n",
    "accuracy_fake = tf.reduce_mean(tf.cast(correct_prediction, \"float\"))"
   ]
  },
  {
   "cell_type": "code",
   "execution_count": 24,
   "metadata": {},
   "outputs": [
    {
     "name": "stdout",
     "output_type": "stream",
     "text": [
      "[<tf.Variable 'discriminator/conv1/w:0' shape=(3, 3, 1, 32) dtype=float32_ref>, <tf.Variable 'discriminator/conv2/w:0' shape=(3, 3, 32, 64) dtype=float32_ref>, <tf.Variable 'discriminator/fc1/Matrix:0' shape=(3136, 1024) dtype=float32_ref>, <tf.Variable 'discriminator/fc1/bias:0' shape=(1024,) dtype=float32_ref>, <tf.Variable 'discriminator/fc2/Matrix:0' shape=(1024, 10) dtype=float32_ref>, <tf.Variable 'discriminator/fc2/bias:0' shape=(10,) dtype=float32_ref>, <tf.Variable 'Variable:0' shape=() dtype=int32_ref>, <tf.Variable 'beta1_power:0' shape=() dtype=float32_ref>, <tf.Variable 'beta2_power:0' shape=() dtype=float32_ref>, <tf.Variable 'discriminator/conv1/w/Adam:0' shape=(3, 3, 1, 32) dtype=float32_ref>, <tf.Variable 'discriminator/conv1/w/Adam_1:0' shape=(3, 3, 1, 32) dtype=float32_ref>, <tf.Variable 'discriminator/conv2/w/Adam:0' shape=(3, 3, 32, 64) dtype=float32_ref>, <tf.Variable 'discriminator/conv2/w/Adam_1:0' shape=(3, 3, 32, 64) dtype=float32_ref>, <tf.Variable 'discriminator/fc1/Matrix/Adam:0' shape=(3136, 1024) dtype=float32_ref>, <tf.Variable 'discriminator/fc1/Matrix/Adam_1:0' shape=(3136, 1024) dtype=float32_ref>, <tf.Variable 'discriminator/fc1/bias/Adam:0' shape=(1024,) dtype=float32_ref>, <tf.Variable 'discriminator/fc1/bias/Adam_1:0' shape=(1024,) dtype=float32_ref>, <tf.Variable 'discriminator/fc2/Matrix/Adam:0' shape=(1024, 10) dtype=float32_ref>, <tf.Variable 'discriminator/fc2/Matrix/Adam_1:0' shape=(1024, 10) dtype=float32_ref>, <tf.Variable 'discriminator/fc2/bias/Adam:0' shape=(10,) dtype=float32_ref>, <tf.Variable 'discriminator/fc2/bias/Adam_1:0' shape=(10,) dtype=float32_ref>]\n"
     ]
    },
    {
     "ename": "ValueError",
     "evalue": "The name 'discriminator/fc2' looks like an (invalid) Operation name, not a Tensor. Tensor names must be of the form \"<op_name>:<output_index>\".",
     "output_type": "error",
     "traceback": [
      "\u001b[0;31m---------------------------------------------------------------------------\u001b[0m",
      "\u001b[0;31mValueError\u001b[0m                                Traceback (most recent call last)",
      "\u001b[0;32m<ipython-input-24-cd24369eb897>\u001b[0m in \u001b[0;36m<module>\u001b[0;34m\u001b[0m\n\u001b[1;32m      2\u001b[0m \u001b[0mprint\u001b[0m\u001b[0;34m(\u001b[0m\u001b[0mall_var\u001b[0m\u001b[0;34m)\u001b[0m\u001b[0;34m\u001b[0m\u001b[0m\n\u001b[1;32m      3\u001b[0m \u001b[0mgraph\u001b[0m \u001b[0;34m=\u001b[0m \u001b[0mtf\u001b[0m\u001b[0;34m.\u001b[0m\u001b[0mget_default_graph\u001b[0m\u001b[0;34m(\u001b[0m\u001b[0;34m)\u001b[0m\u001b[0;34m\u001b[0m\u001b[0m\n\u001b[0;32m----> 4\u001b[0;31m \u001b[0mxin\u001b[0m \u001b[0;34m=\u001b[0m \u001b[0mgraph\u001b[0m\u001b[0;34m.\u001b[0m\u001b[0mget_tensor_by_name\u001b[0m\u001b[0;34m(\u001b[0m\u001b[0;34m\"discriminator/fc2\"\u001b[0m\u001b[0;34m)\u001b[0m\u001b[0;34m\u001b[0m\u001b[0m\n\u001b[0m",
      "\u001b[0;32m~/anaconda3/envs/py35/lib/python3.5/site-packages/tensorflow/python/framework/ops.py\u001b[0m in \u001b[0;36mget_tensor_by_name\u001b[0;34m(self, name)\u001b[0m\n\u001b[1;32m   3205\u001b[0m       raise TypeError(\"Tensor names are strings (or similar), not %s.\" %\n\u001b[1;32m   3206\u001b[0m                       type(name).__name__)\n\u001b[0;32m-> 3207\u001b[0;31m     \u001b[0;32mreturn\u001b[0m \u001b[0mself\u001b[0m\u001b[0;34m.\u001b[0m\u001b[0mas_graph_element\u001b[0m\u001b[0;34m(\u001b[0m\u001b[0mname\u001b[0m\u001b[0;34m,\u001b[0m \u001b[0mallow_tensor\u001b[0m\u001b[0;34m=\u001b[0m\u001b[0;32mTrue\u001b[0m\u001b[0;34m,\u001b[0m \u001b[0mallow_operation\u001b[0m\u001b[0;34m=\u001b[0m\u001b[0;32mFalse\u001b[0m\u001b[0;34m)\u001b[0m\u001b[0;34m\u001b[0m\u001b[0m\n\u001b[0m\u001b[1;32m   3208\u001b[0m \u001b[0;34m\u001b[0m\u001b[0m\n\u001b[1;32m   3209\u001b[0m   \u001b[0;32mdef\u001b[0m \u001b[0m_get_tensor_by_tf_output\u001b[0m\u001b[0;34m(\u001b[0m\u001b[0mself\u001b[0m\u001b[0;34m,\u001b[0m \u001b[0mtf_output\u001b[0m\u001b[0;34m)\u001b[0m\u001b[0;34m:\u001b[0m\u001b[0;34m\u001b[0m\u001b[0m\n",
      "\u001b[0;32m~/anaconda3/envs/py35/lib/python3.5/site-packages/tensorflow/python/framework/ops.py\u001b[0m in \u001b[0;36mas_graph_element\u001b[0;34m(self, obj, allow_tensor, allow_operation)\u001b[0m\n\u001b[1;32m   3033\u001b[0m \u001b[0;34m\u001b[0m\u001b[0m\n\u001b[1;32m   3034\u001b[0m     \u001b[0;32mwith\u001b[0m \u001b[0mself\u001b[0m\u001b[0;34m.\u001b[0m\u001b[0m_lock\u001b[0m\u001b[0;34m:\u001b[0m\u001b[0;34m\u001b[0m\u001b[0m\n\u001b[0;32m-> 3035\u001b[0;31m       \u001b[0;32mreturn\u001b[0m \u001b[0mself\u001b[0m\u001b[0;34m.\u001b[0m\u001b[0m_as_graph_element_locked\u001b[0m\u001b[0;34m(\u001b[0m\u001b[0mobj\u001b[0m\u001b[0;34m,\u001b[0m \u001b[0mallow_tensor\u001b[0m\u001b[0;34m,\u001b[0m \u001b[0mallow_operation\u001b[0m\u001b[0;34m)\u001b[0m\u001b[0;34m\u001b[0m\u001b[0m\n\u001b[0m\u001b[1;32m   3036\u001b[0m \u001b[0;34m\u001b[0m\u001b[0m\n\u001b[1;32m   3037\u001b[0m   \u001b[0;32mdef\u001b[0m \u001b[0m_as_graph_element_locked\u001b[0m\u001b[0;34m(\u001b[0m\u001b[0mself\u001b[0m\u001b[0;34m,\u001b[0m \u001b[0mobj\u001b[0m\u001b[0;34m,\u001b[0m \u001b[0mallow_tensor\u001b[0m\u001b[0;34m,\u001b[0m \u001b[0mallow_operation\u001b[0m\u001b[0;34m)\u001b[0m\u001b[0;34m:\u001b[0m\u001b[0;34m\u001b[0m\u001b[0m\n",
      "\u001b[0;32m~/anaconda3/envs/py35/lib/python3.5/site-packages/tensorflow/python/framework/ops.py\u001b[0m in \u001b[0;36m_as_graph_element_locked\u001b[0;34m(self, obj, allow_tensor, allow_operation)\u001b[0m\n\u001b[1;32m   3107\u001b[0m         err_msg += (\" Tensor names must be of the form \"\n\u001b[1;32m   3108\u001b[0m                     \"\\\"<op_name>:<output_index>\\\".\")\n\u001b[0;32m-> 3109\u001b[0;31m         \u001b[0;32mraise\u001b[0m \u001b[0mValueError\u001b[0m\u001b[0;34m(\u001b[0m\u001b[0merr_msg\u001b[0m\u001b[0;34m)\u001b[0m\u001b[0;34m\u001b[0m\u001b[0m\n\u001b[0m\u001b[1;32m   3110\u001b[0m \u001b[0;34m\u001b[0m\u001b[0m\n\u001b[1;32m   3111\u001b[0m     \u001b[0;32melif\u001b[0m \u001b[0misinstance\u001b[0m\u001b[0;34m(\u001b[0m\u001b[0mobj\u001b[0m\u001b[0;34m,\u001b[0m \u001b[0mTensor\u001b[0m\u001b[0;34m)\u001b[0m \u001b[0;32mand\u001b[0m \u001b[0mallow_tensor\u001b[0m\u001b[0;34m:\u001b[0m\u001b[0;34m\u001b[0m\u001b[0m\n",
      "\u001b[0;31mValueError\u001b[0m: The name 'discriminator/fc2' looks like an (invalid) Operation name, not a Tensor. Tensor names must be of the form \"<op_name>:<output_index>\"."
     ]
    }
   ],
   "source": [
    "all_var = tf.global_variables()\n",
    "print(all_var)\n",
    "graph = tf.get_default_graph()\n",
    "xin = graph.get_tensor_by_name(\"discriminator/fc2/Matrix:0\")"
   ]
  }
 ],
 "metadata": {
  "kernelspec": {
   "display_name": "Python 3",
   "language": "python",
   "name": "python3"
  },
  "language_info": {
   "codemirror_mode": {
    "name": "ipython",
    "version": 3
   },
   "file_extension": ".py",
   "mimetype": "text/x-python",
   "name": "python",
   "nbconvert_exporter": "python",
   "pygments_lexer": "ipython3",
   "version": "3.5.6"
  }
 },
 "nbformat": 4,
 "nbformat_minor": 2
}
