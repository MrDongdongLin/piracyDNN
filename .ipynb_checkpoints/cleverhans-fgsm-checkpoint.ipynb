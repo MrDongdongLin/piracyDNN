{
 "cells": [
  {
   "cell_type": "code",
   "execution_count": 1,
   "metadata": {},
   "outputs": [],
   "source": [
    "import tensorflow as tf\n",
    "import numpy as np\n",
    "from cleverhans.attacks import FastGradientMethod, CarliniWagnerL2\n",
    "from cleverhans.dataset import MNIST\n",
    "from cleverhans.utils_tf import model_eval\n",
    "from model import MyModel, CNN\n",
    "slim = tf.contrib.slim\n",
    "\n",
    "import os\n",
    "os.environ[\"CUDA_DEVICE_ORDER\"] = \"PCI_BUS_ID\"\n",
    "os.environ['CUDA_VISIBLE_DEVICES'] = '5'"
   ]
  },
  {
   "cell_type": "code",
   "execution_count": 2,
   "metadata": {},
   "outputs": [],
   "source": [
    "x = tf.placeholder(tf.float32, [None, 28, 28, 1])\n",
    "y = tf.placeholder(tf.float32, shape=(None, 10))\n",
    "model = CNN('cnn', 10)"
   ]
  },
  {
   "cell_type": "code",
   "execution_count": 3,
   "metadata": {},
   "outputs": [],
   "source": [
    "fgsm_params = {\n",
    "    'eps': 1,\n",
    "    'clip_min': 0,\n",
    "    'clip_max': 1.\n",
    "}\n",
    "\n",
    "train_start=0\n",
    "train_end=60000\n",
    "test_start=0\n",
    "test_end=10000\n",
    "mnist = MNIST(train_start=train_start, train_end=train_end,\n",
    "                test_start=test_start, test_end=test_end)\n",
    "xr_train, yr_train = mnist.get_set('train')\n",
    "xr_test, yr_test = mnist.get_set('test')\n",
    "#print(tf.trainable_variables())"
   ]
  },
  {
   "cell_type": "code",
   "execution_count": 4,
   "metadata": {},
   "outputs": [
    {
     "name": "stdout",
     "output_type": "stream",
     "text": [
      "INFO:tensorflow:Restoring parameters from ./savemodel/cnn/cnnmodel.ckpt\n"
     ]
    },
    {
     "name": "stderr",
     "output_type": "stream",
     "text": [
      "/home/ldd/anaconda3/envs/py35/lib/python3.5/site-packages/cleverhans/compat.py:33: UserWarning: Running on tensorflow version 1.4.0. Support for this version in CleverHans is deprecated and may be removed on or after 2019-01-26\n",
      "  warnings.warn(warning)\n",
      "/home/ldd/anaconda3/envs/py35/lib/python3.5/site-packages/cleverhans/compat.py:130: UserWarning: Running on tensorflow version 1.4.0. Support for this version in CleverHans is deprecated and may be removed on or after 2019-01-26\n",
      "  warnings.warn(warning)\n"
     ]
    }
   ],
   "source": [
    "# init = tf.global_variables_initializer()\n",
    "# with tf.Session() as sess:\n",
    "#   sess.run(init)\n",
    "#   fgsm = FastGradientMethod(model, sess=sess)\n",
    "#   x_adv = fgsm.generate(x, **fgsm_params)\n",
    "#   saver = tf.train.Saver()\n",
    "#   saver.restore(sess, './savemodel/cnn/cnnmodel.ckpt')\n",
    "# #   saver = tf.train.import_meta_graph('./savemodel/cnn/cnnmodel.meta')\n",
    "# #   saver.restore(sess,tf.train.latest_checkpoint('./savemodel/cnn/'))\n",
    "  \n",
    "#   adv_images = sess.run(x_adv, feed_dict={x: xr_train[0:10]})"
   ]
  },
  {
   "cell_type": "code",
   "execution_count": 5,
   "metadata": {},
   "outputs": [],
   "source": [
    "idxs = [np.where(np.argmax(yr_test, axis=1) == i)[0][0] for i in range(10)]\n",
    "adv_inputs = np.array([[instance] * 10 for instance in xr_test[idxs]], dtype=np.float32)\n",
    "adv_inputs = adv_inputs.reshape((10 * 10, 28, 28, 1))\n",
    "yname = \"y_target\"\n",
    "init = tf.global_variables_initializer()\n",
    "sess = tf.Session()\n",
    "sess.run(init)\n",
    "# with tf.Session() as sess:\n",
    "cw = CarliniWagnerL2(model, sess=sess)\n",
    "cw_params_batch_size = 10 * 10\n",
    "one_hot = np.zeros((10, 10))\n",
    "one_hot[np.arange(10), np.arange(10)] = 1\n",
    "adv_ys = np.array([one_hot] * 10, dtype=np.float32).reshape((10 * 10, 10))\n",
    "cw_params = {'binary_search_steps': 1,\n",
    "               yname: adv_ys,\n",
    "               'max_iterations': 100,\n",
    "               'learning_rate': .2,\n",
    "               'batch_size': cw_params_batch_size,\n",
    "               'initial_const': 10}\n",
    "eval_params = {'batch_size': np.minimum(10, 10)}\n",
    "\n",
    "adv = cw.generate_np(adv_inputs, **cw_params)\n",
    "saver = tf.train.Saver()\n",
    "saver.restore(sess, './savemodel/cnn/cnnmodel.ckpt')\n",
    "# saver = tf.train.import_meta_graph('./savemodel/cnn/cnnmodel.meta')\n",
    "# saver.restore(sess,tf.train.latest_checkpoint('./savemodel/cnn/'))\n",
    "adv_images = sess.run(adv, feed_dict={adv_inputs: xr_train[0:10]})\n",
    "adv_accuracy = model_eval(sess, x, y, preds, adv, adv_ys, args=eval_params)"
   ]
  },
  {
   "cell_type": "code",
   "execution_count": 7,
   "metadata": {},
   "outputs": [
    {
     "data": {
      "image/png": "[encoded data removed]",
      "text/plain": [
       "<Figure size 432x288 with 1 Axes>"
      ]
     },
     "metadata": {
      "needs_background": "light"
     },
     "output_type": "display_data"
    }
   ],
   "source": [
    "import matplotlib.pyplot as plt\n",
    "plt.imshow(adv_images[2].reshape(-1,28))\n",
    "plt.show()\n",
    "#graph = tf.get_default_graph()\n",
    "#xr = graph.get_tensor_by_name(\"xr:0\")\n",
    "#xp = graph.get_tensor_by_name(\"xp:0\")"
   ]
  },
  {
   "cell_type": "code",
   "execution_count": 8,
   "metadata": {},
   "outputs": [
    {
     "data": {
      "image/png": "[encoded data removed]",
      "text/plain": [
       "<Figure size 432x288 with 1 Axes>"
      ]
     },
     "metadata": {
      "needs_background": "light"
     },
     "output_type": "display_data"
    },
    {
     "name": "stdout",
     "output_type": "stream",
     "text": [
      "0.0\n"
     ]
    }
   ],
   "source": [
    "plt.imshow(xr_train[2].reshape(-1,28))\n",
    "plt.show()\n",
    "print(np.sum(xr_train[2]-adv_images[2]))\n",
    "fgsm_params = {\n",
    "    'eps': 0.3,\n",
    "    'clip_min': 0.,\n",
    "    'clip_max': 1.\n",
    "}"
   ]
  },
  {
   "cell_type": "code",
   "execution_count": null,
   "metadata": {},
   "outputs": [],
   "source": []
  }
 ],
 "metadata": {
  "kernelspec": {
   "display_name": "Python 3",
   "language": "python",
   "name": "python3"
  },
  "language_info": {
   "codemirror_mode": {
    "name": "ipython",
    "version": 3
   },
   "file_extension": ".py",
   "mimetype": "text/x-python",
   "name": "python",
   "nbconvert_exporter": "python",
   "pygments_lexer": "ipython3",
   "version": "3.5.6"
  }
 },
 "nbformat": 4,
 "nbformat_minor": 2
}
