{
 "cells": [
  {
   "cell_type": "code",
   "execution_count": 1,
   "metadata": {},
   "outputs": [
    {
     "name": "stderr",
     "output_type": "stream",
     "text": [
      "Using TensorFlow backend.\n"
     ]
    }
   ],
   "source": [
    "from model import Model\n",
    "import perturbation as pb\n",
    "from tensorflow.examples.tutorials.mnist import input_data\n",
    "import numpy as np\n",
    "import tensorflow as tf\n",
    "from keras.datasets import cifar10\n",
    "from keras.datasets import fashion_mnist\n",
    "from keras.utils import np_utils\n",
    "import cv2"
   ]
  },
  {
   "cell_type": "code",
   "execution_count": 2,
   "metadata": {},
   "outputs": [],
   "source": [
    "import os\n",
    "os.environ[\"CUDA_DEVICE_ORDER\"] = \"PCI_BUS_ID\"\n",
    "os.environ[\"CUDA_VISIBLE_DEVICES\"] = \"4\""
   ]
  },
  {
   "cell_type": "code",
   "execution_count": 3,
   "metadata": {},
   "outputs": [],
   "source": [
    "tf.reset_default_graph()"
   ]
  },
  {
   "cell_type": "code",
   "execution_count": 4,
   "metadata": {},
   "outputs": [
    {
     "name": "stdout",
     "output_type": "stream",
     "text": [
      "Extracting ./mnist/data/train-images-idx3-ubyte.gz\n",
      "Extracting ./mnist/data/train-labels-idx1-ubyte.gz\n",
      "Extracting ./mnist/data/t10k-images-idx3-ubyte.gz\n",
      "Extracting ./mnist/data/t10k-labels-idx1-ubyte.gz\n"
     ]
    }
   ],
   "source": [
    "# Load data\n",
    "(fr_train_images, fr_train_labels), \\\n",
    "(fr_test_images, fr_test_labels) = fashion_mnist.load_data()\n",
    "mnist_raw = input_data.read_data_sets(\"./mnist/data/\", one_hot=True)"
   ]
  },
  {
   "cell_type": "code",
   "execution_count": 5,
   "metadata": {},
   "outputs": [],
   "source": [
    "dataset = \"mnist\" # mnist fashion\n",
    "network = \"cnn\"     # cnn resnet"
   ]
  },
  {
   "cell_type": "code",
   "execution_count": 6,
   "metadata": {},
   "outputs": [],
   "source": [
    "if dataset == \"mnist\":\n",
    "  X_raw_train = mnist_raw.train.images\n",
    "  Y_raw_train = mnist_raw.train.labels\n",
    "  X_raw_test  = mnist_raw.test.images\n",
    "  Y_raw_test  = mnist_raw.test.labels\n",
    "elif dataset == \"fashion\":\n",
    "  frx_train = fr_train_images.reshape(fr_train_images.shape[0], 28, 28, 1).astype('float32')\n",
    "  fry_test  = fr_test_images.reshape(fr_test_images.shape[0], 28, 28, 1).astype('float32')\n",
    "  X_raw_train  = frx_train/255\n",
    "  Y_raw_train  = np_utils.to_categorical(fr_train_labels)\n",
    "  X_raw_test   = fry_test/255\n",
    "  Y_raw_test   = np_utils.to_categorical(fr_test_labels)\n",
    "  num_examples = fr_train_images.shape[0]\n",
    "  pattern      = np.reshape(pattern, (28, 28, 1))\n",
    "  fpx_train    = np.zeros(X_raw_train.shape)\n",
    "  fpx_test     = np.zeros(X_raw_test.shape)\n",
    "\n",
    "  for i in range(0, fr_train_images.shape[0]):\n",
    "    fpx_train[i] = X_raw_train[i] + pattern\n",
    "  for i in range(0, fr_test_images.shape[0]):\n",
    "    fpx_test[i] = X_raw_test[i] + pattern\n",
    "  X_process_train = fpx_train\n",
    "  Y_process_train = Y_raw_train\n",
    "  X_process_test  = fpx_test\n",
    "  Y_process_test  = Y_raw_test"
   ]
  },
  {
   "cell_type": "code",
   "execution_count": 7,
   "metadata": {},
   "outputs": [],
   "source": [
    "# variables\n",
    "X_r = tf.placeholder(tf.float32, [None, 28, 28, 1], name=\"xr\")\n",
    "Y_r = tf.placeholder(tf.float32, [None, 10])\n",
    "# X_p = tf.placeholder(tf.float32, [None, 28, 28, 1], name=\"xp\")\n",
    "Y_p = tf.placeholder(tf.float32, [None, 10])"
   ]
  },
  {
   "cell_type": "code",
   "execution_count": 8,
   "metadata": {},
   "outputs": [],
   "source": [
    "model = Model(10)\n",
    "# generate perturbation according to the input\n",
    "_, G_sample = pb.generator(X_r)"
   ]
  },
  {
   "cell_type": "code",
   "execution_count": 9,
   "metadata": {},
   "outputs": [],
   "source": [
    "if network == \"cnn\":\n",
    "  output_logits_real, output_real = model.basic_cnn(X_r)\n",
    "  output_logits_fake, output_fake = model.basic_cnn(G_sample,reuse=True)\n",
    "elif network == \"resnet\":\n",
    "  output_logits_real, output_real = model.resnet20(X_r)\n",
    "  output_logits_fake, output_fake = model.resnet20(G_sample,reuse=True)"
   ]
  },
  {
   "cell_type": "code",
   "execution_count": 10,
   "metadata": {},
   "outputs": [],
   "source": [
    "# loss\n",
    "alpha = 1.\n",
    "beta = 1.\n",
    "gama = 10.\n",
    "loss_r = alpha * tf.reduce_mean(tf.reduce_sum(Y_r * output_real, -1))\n",
    "loss_p = beta * tf.reduce_mean(tf.nn.softmax_cross_entropy_with_logits(logits=output_logits_fake, labels=Y_p))\n",
    "loss_d = gama * tf.reduce_mean(tf.square(X_r - G_sample))\n",
    "loss_p_d =  tf.add(loss_p, loss_d)\n",
    "total_loss = loss_r+loss_p+loss_d"
   ]
  },
  {
   "cell_type": "code",
   "execution_count": 11,
   "metadata": {},
   "outputs": [],
   "source": [
    "# learning rate\n",
    "global_step = tf.Variable(0, trainable=False)   \n",
    "lr_decayed = tf.train.exponential_decay(0.001, global_step, 2*10000, 0.1, staircase=False)"
   ]
  },
  {
   "cell_type": "code",
   "execution_count": 12,
   "metadata": {},
   "outputs": [
    {
     "name": "stdout",
     "output_type": "stream",
     "text": [
      "WARNING:tensorflow:From <ipython-input-12-71f8942828ea>:2: all_variables (from tensorflow.python.ops.variables) is deprecated and will be removed after 2017-03-02.\n",
      "Instructions for updating:\n",
      "Please use tf.global_variables instead.\n"
     ]
    }
   ],
   "source": [
    "# variable list\n",
    "all_var = tf.all_variables()\n",
    "g_vars = [var for var in all_var if 'generator' in var.name]\n",
    "d_vars = [var for var in all_var if 'discriminator' in var.name]"
   ]
  },
  {
   "cell_type": "code",
   "execution_count": 13,
   "metadata": {},
   "outputs": [],
   "source": [
    "D_optimizer = tf.train.AdamOptimizer(learning_rate=lr_decayed).minimize(total_loss, var_list=[d_vars])\n",
    "G_optimizer = tf.train.AdamOptimizer(learning_rate=lr_decayed).minimize(loss_p_d, var_list=[g_vars])"
   ]
  },
  {
   "cell_type": "code",
   "execution_count": 14,
   "metadata": {},
   "outputs": [],
   "source": [
    "import matplotlib.pyplot as plt\n",
    "import matplotlib.gridspec as gridspec\n",
    "def plot(samples):\n",
    "    fig = plt.figure(figsize=(4, 4))\n",
    "    gs = gridspec.GridSpec(4, 4)\n",
    "    gs.update(wspace=0.05, hspace=0.05)\n",
    "\n",
    "    for i, sample in enumerate(samples):\n",
    "        ax = plt.subplot(gs[i])\n",
    "        plt.axis('off')\n",
    "        ax.set_xticklabels([])\n",
    "        ax.set_yticklabels([])\n",
    "        ax.set_aspect('equal')\n",
    "        plt.imshow(sample.reshape(28, 28), cmap='Greys_r')\n",
    "\n",
    "    return fig"
   ]
  },
  {
   "cell_type": "code",
   "execution_count": 291,
   "metadata": {},
   "outputs": [
    {
     "name": "stdout",
     "output_type": "stream",
     "text": [
      "Iter: 0\n",
      "D loss: 2.453\n",
      "G_loss: 2.351\n",
      "\n",
      "Iter: 400\n",
      "D loss: 0.3543\n",
      "G_loss: 0.1914\n",
      "\n",
      "Iter: 800\n",
      "D loss: 0.3111\n",
      "G_loss: 0.1563\n",
      "\n",
      "Iter: 1200\n",
      "D loss: 0.1969\n",
      "G_loss: 0.1382\n",
      "\n",
      "Iter: 1600\n",
      "D loss: 0.1889\n",
      "G_loss: 0.09676\n",
      "\n",
      "Iter: 2000\n",
      "D loss: 0.2506\n",
      "G_loss: 0.124\n",
      "\n",
      "Iter: 2400\n",
      "D loss: 0.1992\n",
      "G_loss: 0.08369\n",
      "\n",
      "Iter: 2800\n",
      "D loss: 0.2038\n",
      "G_loss: 0.06502\n",
      "\n",
      "Iter: 3200\n",
      "D loss: 0.2042\n",
      "G_loss: 0.1365\n",
      "\n",
      "Iter: 3600\n",
      "D loss: 0.1744\n",
      "G_loss: 0.04458\n",
      "\n",
      "Iter: 4000\n",
      "D loss: 0.1278\n",
      "G_loss: 0.04788\n",
      "\n",
      "Iter: 4400\n",
      "D loss: 0.18\n",
      "G_loss: 0.03988\n",
      "\n",
      "Iter: 4800\n",
      "D loss: 0.1228\n",
      "G_loss: 0.04897\n",
      "\n",
      "Iter: 5200\n",
      "D loss: 0.1706\n",
      "G_loss: 0.04785\n",
      "\n",
      "Iter: 5600\n",
      "D loss: 0.1371\n",
      "G_loss: 0.03581\n",
      "\n",
      "Iter: 6000\n",
      "D loss: 0.1305\n",
      "G_loss: 0.04168\n",
      "\n",
      "Iter: 6400\n",
      "D loss: 0.1048\n",
      "G_loss: 0.04797\n",
      "\n",
      "Iter: 6800\n",
      "D loss: 0.1774\n",
      "G_loss: 0.03709\n",
      "\n",
      "Iter: 7200\n",
      "D loss: 0.1757\n",
      "G_loss: 0.03989\n",
      "\n",
      "Iter: 7600\n",
      "D loss: 0.1269\n",
      "G_loss: 0.07778\n",
      "\n",
      "Iter: 8000\n",
      "D loss: 0.0973\n",
      "G_loss: 0.06359\n",
      "\n",
      "Iter: 8400\n",
      "D loss: 0.1059\n",
      "G_loss: 0.04121\n",
      "\n",
      "Iter: 8800\n",
      "D loss: 0.1578\n",
      "G_loss: 0.04504\n",
      "\n",
      "Iter: 9200\n",
      "D loss: 0.1319\n",
      "G_loss: 0.03555\n",
      "\n",
      "Iter: 9600\n",
      "D loss: 0.09419\n",
      "G_loss: 0.03318\n",
      "\n",
      "Iter: 10000\n",
      "D loss: 0.1396\n",
      "G_loss: 0.03842\n",
      "\n",
      "Iter: 10400\n",
      "D loss: 0.1394\n",
      "G_loss: 0.03005\n",
      "\n",
      "Iter: 10800\n",
      "D loss: 0.1325\n",
      "G_loss: 0.03158\n",
      "\n",
      "Iter: 11200\n",
      "D loss: 0.1085\n",
      "G_loss: 0.03235\n",
      "\n",
      "Iter: 11600\n",
      "D loss: 0.1645\n",
      "G_loss: 0.03169\n",
      "\n",
      "Iter: 12000\n",
      "D loss: 0.1685\n",
      "G_loss: 0.02658\n",
      "\n",
      "Iter: 12400\n",
      "D loss: 0.08244\n",
      "G_loss: 0.02777\n",
      "\n",
      "Iter: 12800\n",
      "D loss: 0.1213\n",
      "G_loss: 0.02958\n",
      "\n",
      "Iter: 13200\n",
      "D loss: 0.1083\n",
      "G_loss: 0.04831\n",
      "\n",
      "Iter: 13600\n",
      "D loss: 0.145\n",
      "G_loss: 0.02874\n",
      "\n",
      "Iter: 14000\n",
      "D loss: 0.1568\n",
      "G_loss: 0.05875\n",
      "\n",
      "Iter: 14400\n",
      "D loss: 0.1072\n",
      "G_loss: 0.02922\n",
      "\n",
      "Iter: 14800\n",
      "D loss: 0.1409\n",
      "G_loss: 0.02738\n",
      "\n",
      "Iter: 15200\n",
      "D loss: 0.1375\n",
      "G_loss: 0.02814\n",
      "\n",
      "Iter: 15600\n",
      "D loss: 0.1454\n",
      "G_loss: 0.02654\n",
      "\n",
      "Iter: 16000\n",
      "D loss: 0.1324\n",
      "G_loss: 0.03525\n",
      "\n",
      "Iter: 16400\n",
      "D loss: 0.1302\n",
      "G_loss: 0.02842\n",
      "\n",
      "Iter: 16800\n",
      "D loss: 0.1023\n",
      "G_loss: 0.05415\n",
      "\n",
      "Iter: 17200\n",
      "D loss: 0.09695\n",
      "G_loss: 0.04401\n",
      "\n",
      "Iter: 17600\n",
      "D loss: 0.1232\n",
      "G_loss: 0.03376\n",
      "\n",
      "Iter: 18000\n",
      "D loss: 0.121\n",
      "G_loss: 0.02679\n",
      "\n",
      "Iter: 18400\n",
      "D loss: 0.1894\n",
      "G_loss: 0.02543\n",
      "\n",
      "Iter: 18800\n",
      "D loss: 0.09684\n",
      "G_loss: 0.03442\n",
      "\n",
      "Iter: 19200\n",
      "D loss: 0.1295\n",
      "G_loss: 0.1047\n",
      "\n",
      "Iter: 19600\n",
      "D loss: 0.1194\n",
      "G_loss: 0.02481\n",
      "\n"
     ]
    }
   ],
   "source": [
    "sess = tf.Session()\n",
    "sess.run(tf.global_variables_initializer())\n",
    "\n",
    "batch_size = 128\n",
    "i = 0\n",
    "D_loss = open('out/acc_loss/discriminator_loss.txt','a+')\n",
    "G_loss = open('out/acc_loss/generator_loss.txt','a+')\n",
    "for it in range(20000):\n",
    "  if it % 2000 == 0:\n",
    "    samples = sess.run(G_sample, feed_dict={X_r: X_raw_train[it].reshape(-1,28,28,1)})\n",
    "    samples = (samples / 2 + 0.5)*255\n",
    "    fig = plot(samples)\n",
    "    plt.savefig('out/{}.png'.format(str(i).zfill(3)), bbox_inches='tight')\n",
    "    cv2.imwrite('out/cv2_{}.png'.format(str(i).zfill(3)), samples.reshape(28,28,1))\n",
    "    i += 1\n",
    "    plt.close(fig)\n",
    "  if dataset == \"mnist\":\n",
    "    batch_xr, batch_yr = mnist_raw.train.next_batch(batch_size)\n",
    "    # _, batch_yp = mnist_process.train.next_batch(batch_size)\n",
    "    batch_yp = batch_yr.copy()\n",
    "  elif dataset == \"fashion\":\n",
    "    batch_xr = X_raw_train[i*128:(i+1)*128]\n",
    "    batch_yr = Y_raw_train[i*128:(i+1)*128]\n",
    "    # batch_xp = X_process_train[i*128:(i+1)*128]\n",
    "    batch_yp = batch_yr.copy()\n",
    "    \n",
    "  batch_xr = batch_xr.reshape(-1, 28, 28, 1)\n",
    "  # batch_xp = batch_xp.reshape(-1, 28, 28, 1)\n",
    "\n",
    "  # train discriminator\n",
    "  _, D_loss_curr = sess.run([D_optimizer, total_loss],\n",
    "                            feed_dict={X_r: batch_xr,\n",
    "                                       Y_r: batch_yr,\n",
    "                                       Y_p: batch_yp})\n",
    "  _, G_loss_curr = sess.run([G_optimizer, loss_p_d], feed_dict={X_r: batch_xr, Y_p: batch_yp})\n",
    "\n",
    "  if it % 400 == 0:\n",
    "    print('Iter: {}'.format(it))\n",
    "    print('D loss: {:.4}'.format(D_loss_curr))\n",
    "    print('G_loss: {:.4}'.format(G_loss_curr))\n",
    "    print()\n",
    "    D_loss.write(str(D_loss_curr)+'\\n')\n",
    "    G_loss.write(str(G_loss_curr)+'\\n')\n",
    "\n",
    "D_loss.close()\n",
    "G_loss.close()"
   ]
  },
  {
   "cell_type": "code",
   "execution_count": 16,
   "metadata": {},
   "outputs": [
    {
     "name": "stdout",
     "output_type": "stream",
     "text": [
      "accuracy of real data: 0.104\n",
      "accuracy of fake data: 0.999\n"
     ]
    }
   ],
   "source": [
    "# calculate accuracy\n",
    "correct_prediction = tf.equal(tf.argmax(output_fake, axis=-1), \\\n",
    "        tf.argmax(Y_p, axis=-1))\n",
    "accuracy_fake = tf.reduce_mean(tf.cast(correct_prediction, \"float\"))\n",
    "\n",
    "correct_prediction1 = tf.equal(tf.argmax(output_real, axis=-1), \\\n",
    "        tf.argmax(Y_p, axis=-1))\n",
    "accuracy_real = tf.reduce_mean(tf.cast(correct_prediction1, \"float\"))\n",
    "# test processed input\n",
    "Accuracy_real = np.array([])\n",
    "Accuracy_fake = np.array([])\n",
    "for i in range(1000):\n",
    "    #batch_xr, batch_yr = mnist_raw.train.next_batch(batch_size)\n",
    "    #batch_xp, batch_yp = mnist_process.train.next_batch(batch_size)\n",
    "    #batch_xr = batch_xr.reshape(-1, 28, 28, 1)\n",
    "    #batch_xp = batch_xp.reshape(-1, 28, 28, 1)\n",
    "\n",
    "  if dataset == \"mnist\":\n",
    "    batch_xr, batch_yr = mnist_raw.train.next_batch(batch_size)\n",
    "    # _, batch_yp = mnist_process.train.next_batch(batch_size)\n",
    "    batch_yp = batch_yr.copy()\n",
    "  elif dataset == \"fashion\":\n",
    "    batch_xr = X_raw_train[i*128:(i+1)*128]\n",
    "    batch_yr = Y_raw_train[i*128:(i+1)*128]\n",
    "    # batch_xp = X_process_train[i*128:(i+1)*128]\n",
    "    batch_yp = batch_yr.copy()\n",
    "    \n",
    "  batch_xr = batch_xr.reshape(-1, 28, 28, 1)\n",
    "  # batch_xp = batch_xp.reshape(-1, 28, 28, 1)\n",
    "\n",
    "  # train discriminator\n",
    "  temp_acc, temp_acc_ = sess.run([accuracy_real,accuracy_fake],\n",
    "                            feed_dict={X_r: batch_xr,\n",
    "                                       Y_r: batch_yr,\n",
    "                                       Y_p: batch_yp})\n",
    "  #_, G_loss_curr = sess.run([G_optimizer, loss_p_d], feed_dict={X_r: batch_xr, Y_p: batch_yp})\n",
    "  Accuracy_real = np.insert(Accuracy_real,0, temp_acc)\n",
    "  Accuracy_fake = np.insert(Accuracy_fake,0, temp_acc_)\n",
    "print('accuracy of real data: %.3f' % np.mean(Accuracy_real))\n",
    "print('accuracy of fake data: %.3f' % np.mean(Accuracy_fake))"
   ]
  },
  {
   "cell_type": "code",
   "execution_count": 269,
   "metadata": {},
   "outputs": [],
   "source": [
    "NUM_CLASSES = 10\n",
    "def step_fgsm(x, eps, logits):\n",
    "  label = tf.argmax(logits,1)\n",
    "  one_hot_label = tf.one_hot(label, NUM_CLASSES)\n",
    "  cross_entropy = tf.losses.softmax_cross_entropy(one_hot_label,\n",
    "                                                  logits,\n",
    "                                                  label_smoothing=0.1,\n",
    "                                                  weights=1.0)\n",
    "  x_adv = x + eps*tf.sign(tf.gradients(cross_entropy,x)[0])\n",
    "  x_adv = tf.clip_by_value(x_adv,-1.0,1.0)\n",
    "  return tf.stop_gradient(x_adv)\n",
    " \n",
    "def step_targeted_attack(x, eps, one_hot_target_class, logits):\n",
    "  #one_hot_target_class = tf.one_hot(target, NUM_CLASSES)\n",
    "  #print(one_hot_target_class,\"\\n\\n\")\n",
    "  cross_entropy = tf.losses.softmax_cross_entropy(one_hot_target_class,\n",
    "                                                  logits,\n",
    "                                                  label_smoothing=0.1,\n",
    "                                                  weights=1.0)\n",
    "  x_adv = x - eps * tf.sign(tf.gradients(cross_entropy, x)[0])\n",
    "  x_adv = tf.clip_by_value(x_adv, -1.0, 1.0)\n",
    "  return tf.stop_gradient(x_adv)\n",
    "\n",
    "def step_ll_adversarial_images(x, eps, logits):\n",
    "  least_likely_class = tf.argmin(logits, 1)\n",
    "  one_hot_ll_class = tf.one_hot(least_likely_class, NUM_CLASSES)\n",
    "  one_hot_ll_class = tf.reshape(one_hot_ll_class,[1,NUM_CLASSES])\n",
    "  # This reuses the method described above\n",
    "  return step_targeted_attack(x, eps, one_hot_ll_class, logits)"
   ]
  },
  {
   "cell_type": "code",
   "execution_count": 270,
   "metadata": {},
   "outputs": [
    {
     "name": "stdout",
     "output_type": "stream",
     "text": [
      "[[0. 0. 1. 0. 0. 0. 0. 0. 0. 0.]]\n"
     ]
    }
   ],
   "source": [
    "with tf.Session() as session:\n",
    "#print(mnist_raw.train.images[0])\n",
    "  target_class = tf.reshape(tf.one_hot(2,NUM_CLASSES),[1,NUM_CLASSES])\n",
    "  out = session.run(target_class)\n",
    "  print(out)"
   ]
  },
  {
   "cell_type": "code",
   "execution_count": 283,
   "metadata": {},
   "outputs": [
    {
     "name": "stdout",
     "output_type": "stream",
     "text": [
      "Iteration 0\n",
      "Iteration 2000\n",
      "Iteration 4000\n",
      "Iteration 6000\n",
      "Iteration 8000\n",
      "Iteration 10000\n",
      "Iteration 12000\n",
      "Iteration 14000\n",
      "Iteration 16000\n",
      "Iteration 18000\n",
      "Iteration 20000\n",
      "Iteration 22000\n",
      "Iteration 24000\n",
      "Iteration 26000\n",
      "Iteration 28000\n",
      "Iteration 30000\n",
      "Iteration 32000\n",
      "Iteration 34000\n",
      "Iteration 36000\n",
      "Iteration 38000\n",
      "Iteration 40000\n",
      "Iteration 42000\n",
      "Iteration 44000\n",
      "Iteration 46000\n",
      "Iteration 48000\n",
      "Iteration 50000\n",
      "Iteration 52000\n",
      "Iteration 54000\n"
     ]
    }
   ],
   "source": [
    "softmax_tensor = sess.graph.get_tensor_by_name('discriminator/fc2/add:0')\n",
    "image_tensor = sess.graph.get_tensor_by_name('xr:0')\n",
    "target_class = tf.reshape(tf.one_hot(2,NUM_CLASSES),[1,NUM_CLASSES])\n",
    "\n",
    "adv_image_tensor = step_targeted_attack(image_tensor, 0.007, target_class, softmax_tensor)\n",
    "adv_image = mnist_raw.train.images[0].reshape(-1,28,28,1)\n",
    "t = adv_image.copy()\n",
    "adv_noise = np.zeros(t.shape)\n",
    "for j in range(55000):\n",
    "  adv_image = mnist_raw.train.images[j].reshape(-1,28,28,1)\n",
    "  if j%2000==0:\n",
    "    print(\"Iteration \"+str(j))\n",
    "  for i in range(10):\n",
    "    #print(\"Iteration \"+str(i))\n",
    "    adv_image = sess.run(adv_image_tensor,{'xr:0': adv_image})\n",
    "  adv_noise = np.concatenate((adv_noise, adv_image))\n",
    "#plt.imshow(adv_image.reshape(-1,28))"
   ]
  },
  {
   "cell_type": "code",
   "execution_count": 285,
   "metadata": {},
   "outputs": [],
   "source": [
    "from PIL import Image\n",
    "\n",
    "for i in range(54999):\n",
    "  im = adv_noise[i+1].reshape(28,28)\n",
    "  img= Image.fromarray(im*255)\n",
    "  img = img.convert('RGB')\n",
    "  img.save('out/adversarial/3/adv_%s.png'%i,'png')"
   ]
  },
  {
   "cell_type": "code",
   "execution_count": 287,
   "metadata": {},
   "outputs": [
    {
     "data": {
      "text/plain": [
       "<matplotlib.image.AxesImage at 0x7fc3443a0748>"
      ]
     },
     "execution_count": 287,
     "metadata": {},
     "output_type": "execute_result"
    },
    {
     "data": {
      "image/png": "[encoded data removed]",
      "text/plain": [
       "<Figure size 432x288 with 1 Axes>"
      ]
     },
     "metadata": {
      "needs_background": "light"
     },
     "output_type": "display_data"
    }
   ],
   "source": [
    "plt.imshow(adv_noise[54999].reshape(-1,28))\n",
    "#print(mnist_raw.train.labels[3])\n",
    "#plt.show()\n",
    "#save_image(t,(-1,28,28,1),\"original.jpg\")"
   ]
  },
  {
   "cell_type": "code",
   "execution_count": 288,
   "metadata": {},
   "outputs": [
    {
     "name": "stdout",
     "output_type": "stream",
     "text": [
      "test accuracy 0.474719\n"
     ]
    }
   ],
   "source": [
    "adv = tf.placeholder(tf.float32, [None, 28, 28, 1], name=\"adv\")\n",
    "output_logits_adv, output_adv = model.basic_cnn(adv, reuse=True)\n",
    "\n",
    "correct_prediction2 = tf.equal(tf.argmax(output_adv, -1), \\\n",
    "        tf.argmax(target_class, -1))\n",
    "accuracy2 = tf.reduce_mean(tf.cast(correct_prediction2, \"float\"))\n",
    "print(\"test accuracy %g\" %accuracy2.eval(session = sess,\n",
    "      feed_dict = {\n",
    "          adv:adv_noise}))"
   ]
  },
  {
   "cell_type": "code",
   "execution_count": null,
   "metadata": {},
   "outputs": [],
   "source": []
  }
 ],
 "metadata": {
  "kernelspec": {
   "display_name": "Python 3",
   "language": "python",
   "name": "python3"
  },
  "language_info": {
   "codemirror_mode": {
    "name": "ipython",
    "version": 3
   },
   "file_extension": ".py",
   "mimetype": "text/x-python",
   "name": "python",
   "nbconvert_exporter": "python",
   "pygments_lexer": "ipython3",
   "version": "3.5.6"
  }
 },
 "nbformat": 4,
 "nbformat_minor": 2
}
