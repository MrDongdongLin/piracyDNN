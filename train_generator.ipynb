{
 "cells": [
  {
   "cell_type": "markdown",
   "metadata": {},
   "source": [
    "#  Adversarial attacks on Chen&Wu's scheme\n",
    "In this file, we simulate the process of the _generator approach_ in Chen's scheme [1]. The proposed  framework is capable of keeping the DNNs functional to authorized access while dysfunctional to unauthorized access or illicit use. We do some attacks on it. In the following table, the attack scenarios are listed.\n",
    "\n",
    "Attack scenario | $x_r$ | ATM | $x_p$ | ADNN\n",
    "-|-|-|-|-\n",
    "Black-box attack        | × | × | × | × \n",
    "Black-box with $x_r$     | √ | × | × | ×\n",
    "ATM white-box          | × | √ | × | ×\n",
    "Black-box with $x_p$     | × | × | √ | ×\n",
    "Diract piracy          | × | × | × | √\n",
    "ATM white-box with $x_r$  |  √ | √ | × | ×\n",
    "Pair attack           | √ | × | √ | ×\n",
    "ADNN white-box with $x_r$  | √ | × | × | √\n",
    "ATM white-box with $x_p$  |  × | √ | √ | ×\n",
    "ATM and ADNN white-box    | × | √ | × | √\n",
    "ADNN white-box with $x_p$  | × | × | √ | √\n",
    "ATM white-box & pair attack| √ | √ | √ | ×\n",
    "ATM and ADNN white-box with $x_r$ | √ | √ | × | √\n",
    "ADNN white-box & pair attack    |  √ | × | √ | √\n",
    "ATM and ADNN white-box with $x_p$ | × | √ | √ | √\n",
    "White-box attack | √ | √ | √ | √"
   ]
  },
  {
   "cell_type": "code",
   "execution_count": 1,
   "metadata": {},
   "outputs": [
    {
     "name": "stderr",
     "output_type": "stream",
     "text": [
      "Using TensorFlow backend.\n"
     ]
    }
   ],
   "source": [
    "from model import MyModel, CNN\n",
    "from cleverhans.attacks import FastGradientMethod, CarliniWagnerL2\n",
    "from cleverhans.dataset import MNIST, CIFAR10\n",
    "from keras.datasets import fashion_mnist\n",
    "from perturbation import generator\n",
    "from model import *\n",
    "import tensorflow.contrib.slim as slim\n",
    "import numpy as np\n",
    "import tensorflow as tf\n",
    "import cv2\n",
    "import matplotlib.pyplot as plt"
   ]
  },
  {
   "cell_type": "code",
   "execution_count": 2,
   "metadata": {},
   "outputs": [],
   "source": [
    "import os\n",
    "os.environ[\"CUDA_DEVICE_ORDER\"] = \"PCI_BUS_ID\"\n",
    "os.environ[\"CUDA_VISIBLE_DEVICES\"] = \"5\""
   ]
  },
  {
   "cell_type": "code",
   "execution_count": 3,
   "metadata": {},
   "outputs": [],
   "source": [
    "dataset = \"mnist\"\n",
    "network = \"cnn\"\n",
    "BATCH_SIZE = 128"
   ]
  },
  {
   "cell_type": "code",
   "execution_count": 4,
   "metadata": {},
   "outputs": [],
   "source": [
    "# Get MNIST data\n",
    "train_start=0\n",
    "train_end=60000\n",
    "test_start=0\n",
    "test_end=10000\n",
    "mnist = MNIST(train_start=train_start, train_end=train_end,\n",
    "                test_start=test_start, test_end=test_end)\n",
    "xr_train, yr_train = mnist.get_set('train')\n",
    "xr_test, yr_test = mnist.get_set('test')\n",
    "xp_train = xr_train.copy()\n",
    "xp_test = xr_test.copy()"
   ]
  },
  {
   "cell_type": "code",
   "execution_count": 5,
   "metadata": {},
   "outputs": [],
   "source": [
    "# variables\n",
    "xr = tf.placeholder(tf.float32, [None, 28, 28, 1], name=\"xr\")\n",
    "xp = tf.placeholder(tf.float32, [None, 28, 28, 1], name=\"xp\")\n",
    "y  = tf.placeholder(tf.float32, [None, 10])"
   ]
  },
  {
   "cell_type": "code",
   "execution_count": 6,
   "metadata": {},
   "outputs": [],
   "source": [
    "model = MyModel(10)\n",
    "# generate perturbation according to the input\n",
    "_, G_sample = generator(xr)\n",
    "\n",
    "if network == \"cnn\":\n",
    "    output_logits_real, output_real = model.basic_cnn(xr)\n",
    "    output_logits_fake, output_fake = model.basic_cnn(G_sample,reuse=True)\n",
    "elif network == \"resnet\":\n",
    "    output_logits_real, output_real = model.resnet20(xr)\n",
    "    output_logits_fake, output_fake = model.resnet20(G_sample,reuse=True)\n",
    "# loss\n",
    "alpha = 1.\n",
    "beta = 1.\n",
    "gama = 0.01\n",
    "loss_r = alpha * tf.reduce_mean(tf.reduce_sum(y * output_real, -1))\n",
    "loss_p = beta * tf.reduce_mean(tf.nn.softmax_cross_entropy_with_logits(logits=output_logits_fake, labels=y))\n",
    "loss_d = gama * tf.reduce_mean(tf.square(xr - G_sample))\n",
    "loss_p_d =  tf.add(loss_p, loss_d)\n",
    "total_loss = loss_r+loss_p+loss_d\n",
    "# learning rate\n",
    "global_step = tf.Variable(0, trainable=False)   \n",
    "lr_decayed = tf.train.exponential_decay(0.001, global_step, 2*10000, 0.1, staircase=False)\n",
    "# variable list\n",
    "all_var = tf.global_variables()\n",
    "g_vars = [var for var in all_var if 'generator' in var.name]\n",
    "d_vars = [var for var in all_var if 'discriminator' in var.name]\n",
    "\n",
    "D_optimizer = tf.train.AdamOptimizer(learning_rate=lr_decayed).minimize(total_loss, var_list=[d_vars])\n",
    "G_optimizer = tf.train.AdamOptimizer(learning_rate=lr_decayed).minimize(loss_p_d, var_list=[g_vars])"
   ]
  },
  {
   "cell_type": "code",
   "execution_count": 7,
   "metadata": {},
   "outputs": [],
   "source": [
    "sess = tf.Session()\n",
    "sess.run(tf.global_variables_initializer())\n",
    "sess.run(tf.tables_initializer())"
   ]
  },
  {
   "cell_type": "code",
   "execution_count": 8,
   "metadata": {},
   "outputs": [
    {
     "name": "stdout",
     "output_type": "stream",
     "text": [
      "D_loss: 2.403\n",
      "G_loss: 2.3\n",
      "D_loss: 0.2857\n",
      "G_loss: 0.1376\n",
      "D_loss: 0.2223\n",
      "G_loss: 0.08953\n",
      "D_loss: 0.2027\n",
      "G_loss: 0.04866\n",
      "D_loss: 0.2133\n",
      "G_loss: 0.06527\n",
      "D_loss: 0.2221\n",
      "G_loss: 0.04735\n",
      "D_loss: 0.2769\n",
      "G_loss: 0.05185\n",
      "D_loss: 0.2618\n",
      "G_loss: 0.04969\n",
      "D_loss: 0.1973\n",
      "G_loss: 0.04498\n",
      "D_loss: 0.1996\n",
      "G_loss: 0.03129\n",
      "D_loss: 0.1116\n",
      "G_loss: 0.02852\n",
      "D_loss: 0.02696\n",
      "G_loss: 0.03042\n",
      "D_loss: 0.064\n",
      "G_loss: 0.01912\n",
      "D_loss: 0.02853\n",
      "G_loss: 0.01443\n",
      "D_loss: 0.02962\n",
      "G_loss: 0.01479\n",
      "D_loss: 0.01326\n",
      "G_loss: 0.01294\n",
      "D_loss: 0.03267\n",
      "G_loss: 0.01619\n",
      "D_loss: 0.008614\n",
      "G_loss: 0.008772\n",
      "D_loss: 0.01056\n",
      "G_loss: 0.02516\n",
      "D_loss: 0.009405\n",
      "G_loss: 0.01129\n",
      "D_loss: 0.01098\n",
      "G_loss: 0.01017\n",
      "D_loss: 0.008141\n",
      "G_loss: 0.008284\n",
      "D_loss: 0.01911\n",
      "G_loss: 0.01939\n",
      "D_loss: 0.007508\n",
      "G_loss: 0.007327\n",
      "D_loss: 0.01574\n",
      "G_loss: 0.01237\n",
      "D_loss: 0.008739\n",
      "G_loss: 0.02324\n",
      "D_loss: 0.01608\n",
      "G_loss: 0.009345\n",
      "D_loss: 0.01918\n",
      "G_loss: 0.0119\n",
      "D_loss: 0.008992\n",
      "G_loss: 0.01929\n",
      "D_loss: 0.02495\n",
      "G_loss: 0.008615\n",
      "D_loss: 0.007976\n",
      "G_loss: 0.008088\n",
      "D_loss: 0.00881\n",
      "G_loss: 0.01051\n",
      "D_loss: 0.07346\n",
      "G_loss: 0.06007\n",
      "D_loss: 0.009255\n",
      "G_loss: 0.01021\n",
      "D_loss: 0.08587\n",
      "G_loss: 0.1479\n",
      "D_loss: 0.009898\n",
      "G_loss: 0.009404\n",
      "D_loss: 0.01585\n",
      "G_loss: 0.007849\n",
      "D_loss: 0.007825\n",
      "G_loss: 0.00705\n",
      "D_loss: 0.01219\n",
      "G_loss: 0.01057\n",
      "D_loss: 0.01329\n",
      "G_loss: 0.008496\n",
      "D_loss: 0.01049\n",
      "G_loss: 0.01999\n",
      "D_loss: 0.007648\n",
      "G_loss: 0.007795\n",
      "D_loss: 0.009535\n",
      "G_loss: 0.0123\n",
      "D_loss: 0.007014\n",
      "G_loss: 0.007092\n",
      "D_loss: 0.02216\n",
      "G_loss: 0.03382\n",
      "D_loss: 0.01227\n",
      "G_loss: 0.00687\n",
      "D_loss: 0.006841\n",
      "G_loss: 0.007278\n",
      "D_loss: 0.006983\n",
      "G_loss: 0.006333\n",
      "D_loss: 0.01047\n",
      "G_loss: 0.006199\n",
      "D_loss: 0.009204\n",
      "G_loss: 0.007097\n",
      "D_loss: 0.008135\n",
      "G_loss: 0.007188\n",
      "D_loss: 0.02905\n",
      "G_loss: 0.008391\n",
      "D_loss: 0.006756\n",
      "G_loss: 0.006266\n",
      "D_loss: 0.02716\n",
      "G_loss: 0.01015\n",
      "D_loss: 0.03427\n",
      "G_loss: 0.006529\n",
      "D_loss: 0.006722\n",
      "G_loss: 0.006891\n",
      "D_loss: 0.0209\n",
      "G_loss: 0.008703\n",
      "D_loss: 0.007671\n",
      "G_loss: 0.00633\n",
      "D_loss: 0.007903\n",
      "G_loss: 0.006466\n",
      "D_loss: 0.01477\n",
      "G_loss: 0.02646\n",
      "D_loss: 0.006604\n",
      "G_loss: 0.006456\n",
      "D_loss: 0.007121\n",
      "G_loss: 0.006895\n",
      "D_loss: 0.06676\n",
      "G_loss: 0.03083\n",
      "D_loss: 0.006581\n",
      "G_loss: 0.006565\n",
      "D_loss: 0.005701\n",
      "G_loss: 0.005675\n",
      "D_loss: 0.005535\n",
      "G_loss: 0.005525\n",
      "D_loss: 0.007246\n",
      "G_loss: 0.005421\n",
      "D_loss: 0.01015\n",
      "G_loss: 0.00713\n",
      "D_loss: 0.006839\n",
      "G_loss: 0.006834\n",
      "D_loss: 0.009817\n",
      "G_loss: 0.01056\n",
      "D_loss: 0.006712\n",
      "G_loss: 0.006712\n",
      "D_loss: 0.005834\n",
      "G_loss: 0.00581\n",
      "D_loss: 0.005686\n",
      "G_loss: 0.005687\n",
      "D_loss: 0.006224\n",
      "G_loss: 0.006213\n",
      "D_loss: 0.005304\n",
      "G_loss: 0.005304\n",
      "D_loss: 0.005964\n",
      "G_loss: 0.005875\n",
      "D_loss: 0.005472\n",
      "G_loss: 0.005633\n",
      "D_loss: 0.09863\n",
      "G_loss: 0.0588\n",
      "D_loss: 0.006935\n",
      "G_loss: 0.005982\n",
      "D_loss: 0.006453\n",
      "G_loss: 0.006453\n"
     ]
    }
   ],
   "source": [
    "total_batch = int(xr_train.shape[0] / BATCH_SIZE)\n",
    "# D_loss = open('out/acc_loss/discriminator_loss.txt','w+')\n",
    "# G_loss = open('out/acc_loss/generator_loss.txt','w+')\n",
    "for epoch in range(80):\n",
    "    for i in range(total_batch):\n",
    "        #batch_xr, batch_yr = mnist_raw.train.next_batch(batch_size)\n",
    "        #batch_xp, batch_yp = mnist_process.train.next_batch(batch_size)\n",
    "        #batch_xr = batch_xr.reshape(-1, 28, 28, 1)\n",
    "        #batch_xp = batch_xp.reshape(-1, 28, 28, 1)\n",
    "        bstart, bend = i*BATCH_SIZE, (i+1)*BATCH_SIZE\n",
    "        batch_xr, batch_xp = xr_train[bstart:bend], xp_train[bstart:bend]\n",
    "        batch_y = yr_train[bstart:bend]\n",
    "\n",
    "        # train discriminator\n",
    "        _, D_loss_curr = sess.run([D_optimizer, total_loss], feed_dict={xr: batch_xr, y: batch_y})\n",
    "        _, G_loss_curr = sess.run([G_optimizer, loss_p_d],   feed_dict={xr: batch_xr, y: batch_y})\n",
    "        if i % 2000 == 0:\n",
    "            print('D_loss: {:.4}'.format(D_loss_curr))\n",
    "            print('G_loss: {:.4}'.format(G_loss_curr))\n",
    "#     D_loss.write(str(D_loss_curr)+'\\n')\n",
    "#     G_loss.write(str(G_loss_curr)+'\\n')\n",
    "# D_loss.close()\n",
    "# G_loss.close()"
   ]
  },
  {
   "cell_type": "code",
   "execution_count": 9,
   "metadata": {},
   "outputs": [
    {
     "name": "stdout",
     "output_type": "stream",
     "text": [
      "raw input accuracy 0.0006\n",
      "processed input accuracy 0.9796\n"
     ]
    }
   ],
   "source": [
    "# calculate accuracy\n",
    "correct_prediction = tf.equal(tf.argmax(output_fake, axis=-1), tf.argmax(y, axis=-1))\n",
    "accuracy_fake = tf.reduce_mean(tf.cast(correct_prediction, \"float\"))\n",
    "\n",
    "correct_prediction1 = tf.equal(tf.argmax(output_real, axis=-1),tf.argmax(y, axis=-1))\n",
    "accuracy_real = tf.reduce_mean(tf.cast(correct_prediction1, \"float\"))\n",
    "\n",
    "print(\"raw input accuracy %g\"       %accuracy_real.eval(session=sess, feed_dict={xr: xr_test, y: yr_test}))\n",
    "print(\"processed input accuracy %g\" %accuracy_fake.eval(session=sess, feed_dict={xr: xr_test, \n",
    "                                                                                 xp: xp_test, y: yr_test}))"
   ]
  },
  {
   "cell_type": "code",
   "execution_count": 15,
   "metadata": {},
   "outputs": [
    {
     "data": {
      "text/plain": [
       "'./savemodel/cnn/cnn_generator.ckpt'"
      ]
     },
     "execution_count": 15,
     "metadata": {},
     "output_type": "execute_result"
    }
   ],
   "source": [
    "# save model\n",
    "saver = tf.train.Saver()\n",
    "saver.save(sess,\"./savemodel/cnn/cnn_generator.ckpt\")"
   ]
  },
  {
   "cell_type": "markdown",
   "metadata": {},
   "source": [
    "# FGSM"
   ]
  },
  {
   "cell_type": "markdown",
   "metadata": {},
   "source": [
    "## targeted label"
   ]
  },
  {
   "cell_type": "code",
   "execution_count": 18,
   "metadata": {},
   "outputs": [],
   "source": [
    "# with tf.Session() as session:\n",
    "# #print(mnist_raw.train.images[0])\n",
    "#   target_class = tf.reshape(tf.one_hot(2,NUM_CLASSES),[1,NUM_CLASSES])\n",
    "#   out = session.run(target_class)\n",
    "#   print(out)\n",
    "##  out[[0. 0. 1. 0. 0. 0. 0. 0. 0. 0.]]"
   ]
  },
  {
   "cell_type": "code",
   "execution_count": 10,
   "metadata": {},
   "outputs": [
    {
     "name": "stdout",
     "output_type": "stream",
     "text": [
      "Iteration 0\n"
     ]
    },
    {
     "name": "stderr",
     "output_type": "stream",
     "text": [
      "/home/ldd/anaconda3/envs/py35/lib/python3.5/site-packages/cleverhans/compat.py:33: UserWarning: Running on tensorflow version 1.4.0. Support for this version in CleverHans is deprecated and may be removed on or after 2019-01-26\n",
      "  warnings.warn(warning)\n",
      "/home/ldd/anaconda3/envs/py35/lib/python3.5/site-packages/cleverhans/compat.py:130: UserWarning: Running on tensorflow version 1.4.0. Support for this version in CleverHans is deprecated and may be removed on or after 2019-01-26\n",
      "  warnings.warn(warning)\n"
     ]
    },
    {
     "name": "stdout",
     "output_type": "stream",
     "text": [
      "Iteration 2000\n",
      "Iteration 4000\n",
      "Iteration 6000\n",
      "Iteration 8000\n",
      "Iteration 10000\n",
      "Iteration 12000\n",
      "Iteration 14000\n",
      "Iteration 16000\n",
      "Iteration 18000\n",
      "Iteration 20000\n",
      "Iteration 22000\n",
      "Iteration 24000\n",
      "Iteration 26000\n",
      "Iteration 28000\n",
      "Iteration 30000\n",
      "Iteration 32000\n",
      "Iteration 34000\n",
      "Iteration 36000\n",
      "Iteration 38000\n",
      "Iteration 40000\n",
      "Iteration 42000\n",
      "Iteration 44000\n",
      "Iteration 46000\n",
      "Iteration 48000\n",
      "Iteration 50000\n",
      "Iteration 52000\n",
      "Iteration 54000\n",
      "Iteration 56000\n",
      "Iteration 58000\n"
     ]
    }
   ],
   "source": [
    "x = tf.placeholder(tf.float32, [None, 28, 28, 1])\n",
    "attack_model = CNN('cnn', 10)\n",
    "NUM_CLASSES = 10\n",
    "target_class = tf.reshape(tf.one_hot(2,NUM_CLASSES),[1,NUM_CLASSES])\n",
    "fgsm_params = {\n",
    "    'eps': 0.05,\n",
    "    'clip_min': 0,\n",
    "    'clip_max': 1.,\n",
    "    'y_target': target_class\n",
    "}\n",
    "it = 10 # iterative FGSM\n",
    "\n",
    "fgsm = FastGradientMethod(attack_model, sess=sess)\n",
    "x_adv = fgsm.generate(x, **fgsm_params)\n",
    "adv_images = np.zeros((60000,28,28,1))\n",
    "for j in range(60000): # np.shape(xr_train)[0]=60000\n",
    "    adv_images[j] =xr_train[j].reshape(-1,28,28,1)\n",
    "    if j%2000==0:\n",
    "        print(\"Iteration \"+str(j))\n",
    "    for i in range(it):\n",
    "        adv_images[j] = sess.run(x_adv, feed_dict={x: adv_images[j].reshape(-1,28,28,1)}) #xr_train[0:10]})"
   ]
  },
  {
   "cell_type": "code",
   "execution_count": 12,
   "metadata": {},
   "outputs": [
    {
     "name": "stdout",
     "output_type": "stream",
     "text": [
      "test accuracy 0.9874\n"
     ]
    }
   ],
   "source": [
    "adv = tf.placeholder(tf.float32, [None, 28, 28, 1], name=\"adv\")\n",
    "# _y = tf.placeholder(tf.float32, [None, 10])\n",
    "_, _output_adv = model.basic_cnn(adv, reuse=True)\n",
    "\n",
    "_correct_prediction = tf.equal(tf.argmax(_output_adv, -1), tf.argmax(target_class, -1))\n",
    "_accuracy = tf.reduce_mean(tf.cast(_correct_prediction, \"float\"))\n",
    "print(\"test accuracy %g\" %_accuracy.eval(session=sess, feed_dict={adv:adv_images}))"
   ]
  },
  {
   "cell_type": "code",
   "execution_count": 13,
   "metadata": {},
   "outputs": [
    {
     "data": {
      "text/plain": [
       "<matplotlib.image.AxesImage at 0x7efd15991ac8>"
      ]
     },
     "execution_count": 13,
     "metadata": {},
     "output_type": "execute_result"
    },
    {
     "data": {
      "image/png": "[encoded data removed]",
      "text/plain": [
       "<Figure size 432x288 with 1 Axes>"
      ]
     },
     "metadata": {
      "needs_background": "light"
     },
     "output_type": "display_data"
    }
   ],
   "source": [
    "plt.imshow(adv_images[0].reshape(-1,28))"
   ]
  },
  {
   "cell_type": "markdown",
   "metadata": {},
   "source": [
    "# Learning a surragte ATM"
   ]
  },
  {
   "cell_type": "markdown",
   "metadata": {},
   "source": [
    "## train for generator method"
   ]
  },
  {
   "cell_type": "code",
   "execution_count": 14,
   "metadata": {},
   "outputs": [],
   "source": [
    "def surrogate_generator(inputs, reuse=False):\n",
    "    with tf.variable_scope(\"surrogate_generator\", reuse=reuse) as scope:\n",
    "        x = conv2d(inputs, 32,5,5,1,1, name='conv1')\n",
    "        x = conv2d(x, 16,1,1,1,1, name='bottleconv')\n",
    "        x = conv2d(x, 16,3,3,1,1, name='conv2')\n",
    "        x = conv2d(x, 32,1,1,1,1, name='conv3')\n",
    "        x = slim.flatten(x, scope='flatten')\n",
    "        xl = slim.fully_connected(x, 784, activation_fn=None, scope='fc')\n",
    "        xl = tf.reshape(xl,[-1,28,28,1])\n",
    "        # xl = linear(x, 1, scope='fc')\n",
    "        xl = inputs + xl\n",
    "        xp = tf.nn.tanh(xl)\n",
    "        x_logits = slim.fully_connected(slim.dropout(x, 0.5), 10, activation_fn=None, scope='fc2')\n",
    "        x_logits = tf.nn.softmax(x_logits, name=\"softmax\")\n",
    "        # xl = tf.reshape(xl,[-1,28,28,1])\n",
    "        return x_logits, xp\n",
    "\n",
    "# define model\n",
    "_xr  = tf.placeholder(tf.float32, [None, 28, 28, 1], name=\"xr\")\n",
    "_adv = tf.placeholder(tf.float32, [None, 28, 28, 1], name=\"adv\")\n",
    "_y   = tf.placeholder(tf.float32, [None, 10])\n",
    "\n",
    "gen_adv_logits, gen_adv = surrogate_generator(_xr)\n",
    "\n",
    "_loss_label = tf.reduce_mean(tf.nn.softmax_cross_entropy_with_logits(logits=gen_adv_logits, labels=_y))\n",
    "_loss_image = tf.reduce_mean(tf.square(_adv - gen_adv))\n",
    "_total_loss = tf.add(_loss_label, _loss_image)\n",
    "\n",
    "# learning rate\n",
    "_global_step = tf.Variable(0, trainable=False)   \n",
    "_lr_decayed = tf.train.exponential_decay(0.001, _global_step, 2*10000, 0.1, staircase=False)\n",
    "\n",
    "# variable list\n",
    "_all_var = tf.global_variables()\n",
    "_g_vars = [var for var in _all_var if 'generator' in var.name]\n",
    "# optimizer\n",
    "_G_optimizer = tf.train.AdamOptimizer(learning_rate=_lr_decayed).minimize(_total_loss, var_list=[_g_vars])"
   ]
  },
  {
   "cell_type": "code",
   "execution_count": 15,
   "metadata": {},
   "outputs": [
    {
     "name": "stdout",
     "output_type": "stream",
     "text": [
      "2.3329895 2.3025854 0.030404052\n",
      "1.475502 1.461248 0.014253981\n",
      "1.4750289 1.4612296 0.013799302\n",
      "1.4747822 1.461222 0.013560172\n",
      "1.474661 1.461237 0.013424051\n",
      "1.4745609 1.4612417 0.013319191\n",
      "1.4744755 1.4612529 0.01322258\n",
      "1.474326 1.4612579 0.01306803\n",
      "1.4741406 1.4613132 0.012827399\n",
      "1.4739842 1.4613082 0.0126759475\n",
      "1.4738555 1.4612632 0.012592285\n",
      "1.4737694 1.4612262 0.012543165\n",
      "1.4737015 1.4611994 0.012502133\n",
      "1.4736534 1.4611888 0.01246469\n",
      "1.4735955 1.4611919 0.012403612\n",
      "1.4735352 1.461183 0.01235221\n",
      "1.4734943 1.4611794 0.012314856\n",
      "1.4734555 1.4611795 0.012276007\n",
      "1.4734311 1.4611814 0.012249715\n",
      "1.4734 1.4611762 0.012223844\n",
      "1.4733443 1.4611769 0.012167422\n",
      "1.473302 1.4611684 0.0121335955\n",
      "1.4732358 1.4611645 0.012071388\n",
      "1.4732035 1.4611691 0.012034468\n",
      "1.4731762 1.4611702 0.012006097\n",
      "1.4731542 1.4611692 0.011984937\n",
      "1.4731095 1.4611634 0.011946066\n",
      "1.4730344 1.4611633 0.0118710585\n",
      "1.4730036 1.4611585 0.011845068\n",
      "1.472887 1.4611566 0.01173042\n",
      "1.4728701 1.4611568 0.0117133055\n",
      "1.4728011 1.4611557 0.011645449\n",
      "1.4727383 1.4611564 0.011581877\n",
      "1.4726757 1.4611557 0.011520071\n",
      "1.4726573 1.4611549 0.01150241\n",
      "1.4726372 1.4611529 0.01148428\n",
      "1.4726307 1.4611518 0.011478853\n",
      "1.4726033 1.461154 0.011449293\n",
      "1.4725971 1.4611517 0.011445359\n",
      "1.4726129 1.4611511 0.011461754\n",
      "1.4725636 1.4611516 0.011412001\n",
      "1.4724721 1.4611516 0.011320523\n",
      "1.472494 1.4611514 0.011342644\n",
      "1.4724488 1.4611509 0.011297981\n",
      "1.4724948 1.4611516 0.01134321\n",
      "1.4724467 1.4611508 0.011295856\n",
      "1.4724568 1.4611508 0.011306067\n",
      "1.4724969 1.4611506 0.011346181\n",
      "1.4725131 1.4611508 0.011362334\n",
      "1.4725088 1.4611504 0.011358327\n",
      "1.4725474 1.4611504 0.011397055\n",
      "1.472587 1.4611505 0.011436469\n",
      "1.4726068 1.4611505 0.011456207\n",
      "1.4726121 1.4611504 0.011461711\n",
      "1.4725499 1.4611503 0.011399642\n",
      "1.4725696 1.4611502 0.011419357\n",
      "1.4726143 1.4611502 0.01146415\n",
      "1.472601 1.4611502 0.011450926\n",
      "1.4726728 1.4611502 0.011522702\n",
      "1.4726803 1.4611502 0.011530185\n",
      "1.4726216 1.4611502 0.011471383\n",
      "1.4726046 1.4611502 0.011454507\n",
      "1.4725301 1.4611502 0.011379949\n",
      "1.4725239 1.4611502 0.011373805\n",
      "1.4724805 1.4611502 0.01133041\n",
      "1.4724628 1.4611502 0.011312607\n",
      "1.4724392 1.4611502 0.011288958\n",
      "1.4725161 1.4611502 0.011365832\n",
      "1.4725075 1.4611502 0.01135727\n",
      "1.4724278 1.4611502 0.011277659\n",
      "1.4723216 1.4611502 0.011171454\n",
      "1.4723063 1.4611502 0.011156069\n",
      "1.4722774 1.4611502 0.011127277\n",
      "1.47224 1.4611502 0.011089833\n",
      "1.4723618 1.4611502 0.011211653\n",
      "1.4722924 1.4611502 0.011142301\n",
      "1.472351 1.4611502 0.011200844\n",
      "1.4723423 1.4611502 0.011192142\n",
      "1.4723405 1.4611502 0.011190347\n",
      "1.4723419 1.4611502 0.011191669\n"
     ]
    }
   ],
   "source": [
    "# sess = tf.Session()\n",
    "sess.run(tf.global_variables_initializer())\n",
    "# sess.run(tf.tables_initializer())\n",
    "\n",
    "target_label = sess.run(target_class)\n",
    "\n",
    "# BATCH_SIZE = 128\n",
    "_total_batch = int(60000 / BATCH_SIZE)\n",
    "# T_loss = open('out/acc_loss/fixed_total_loss.txt','w+')\n",
    "# D_loss = open('out/acc_loss/fixed_r_loss.txt','w+')\n",
    "# G_loss = open('out/acc_loss/fixed_p_loss.txt','w+')\n",
    "for epoch in range(80):\n",
    "    for i in range(_total_batch):\n",
    "        bstart, bend = i*BATCH_SIZE, (i+1)*BATCH_SIZE\n",
    "        batch_xr, batch_xp = xr_train[bstart:bend], adv_images[bstart:bend]\n",
    "        batch_y = np.repeat(target_label, BATCH_SIZE, axis=0)\n",
    "\n",
    "        _, G_loss_curr, _loss_l, _loss_i = sess.run([_G_optimizer, _total_loss, _loss_label, _loss_image],\n",
    "                                  feed_dict={_xr: batch_xr,\n",
    "                                             _adv: batch_xp,\n",
    "                                             _y: batch_y})\n",
    "        if i % 1000 == 0:\n",
    "            print(G_loss_curr, _loss_l, _loss_i)\n",
    "#     T_loss.write(str(t_loss)+'\\n')\n",
    "#     D_loss.write(str(temp_loss1)+'\\n')\n",
    "#     G_loss.write(str(temp_loss2)+'\\n')\n",
    "# T_loss.close()\n",
    "# D_loss.close()\n",
    "# G_loss.close()"
   ]
  },
  {
   "cell_type": "code",
   "execution_count": 16,
   "metadata": {},
   "outputs": [
    {
     "name": "stdout",
     "output_type": "stream",
     "text": [
      "generator adversarial accuracy 1\n"
     ]
    },
    {
     "data": {
      "image/png": "[encoded data removed]",
      "text/plain": [
       "<Figure size 432x288 with 1 Axes>"
      ]
     },
     "metadata": {
      "needs_background": "light"
     },
     "output_type": "display_data"
    }
   ],
   "source": [
    "_xin = tf.placeholder(tf.float32, [None, 28, 28, 1], name=\"xin\")\n",
    "# _y  = tf.placeholder(tf.float32, [None, 10])\n",
    "# target_label = sess.run(target_class)\n",
    "\n",
    "_gen_adv_logits, _gen_adv = surrogate_generator(_xin, reuse=True)\n",
    "\n",
    "g_sample = sess.run(_gen_adv, feed_dict={_xin: xr_test[0].reshape(-1,28,28,1)})\n",
    "plt.imshow(g_sample.reshape(-1,28))\n",
    "\n",
    "# calculate accuracy\n",
    "_correct_prediction = tf.equal(tf.argmax(_gen_adv_logits, axis=-1), tf.argmax(target_class, axis=-1))\n",
    "_accuracy_fake = tf.reduce_mean(tf.cast(_correct_prediction, \"float\"))\n",
    "\n",
    "print(\"generator adversarial accuracy %g\" %_accuracy_fake.eval(session=sess, feed_dict={_xin: xr_test}))"
   ]
  },
  {
   "cell_type": "markdown",
   "metadata": {},
   "source": [
    "## save data as tfrecord"
   ]
  },
  {
   "cell_type": "code",
   "execution_count": null,
   "metadata": {},
   "outputs": [],
   "source": [
    "def _int64_feature(value):\n",
    "    return tf.train.Feature(int64_list=tf.train.Int64List(value=[value]))\n",
    "def _bytes_feature(value):\n",
    "    return tf.train.Feature(bytes_list=tf.train.BytesList(value=[value]))\n",
    "\n",
    "with tf.Session() as session:\n",
    "    target_label = session.run(target_class)\n",
    "    \n",
    "filename = \"./out/adv_generator_mnist.tfrecords\"\n",
    "writer = tf.python_io.TFRecordWriter(filename)\n",
    "for i in range(50000):\n",
    "    images_raw = adv_images[i].tostring()\n",
    "    example = tf.train.Example(features=tf.train.Features(feature={\n",
    "        'label': _int64_feature(np.argmax(target_label)),\n",
    "        'image': _bytes_feature(images_raw)}))\n",
    "    writer.write(example.SerializeToString())\n",
    "writer.close()"
   ]
  },
  {
   "cell_type": "code",
   "execution_count": 18,
   "metadata": {},
   "outputs": [],
   "source": [
    "# from PIL import Image\n",
    "\n",
    "# for i in range(50000):\n",
    "#     im = adv_images[i].reshape(28,28)\n",
    "#     img= Image.fromarray(im*255)\n",
    "#     img = img.convert('RGB')\n",
    "#     img.save('out/adversarial/generator/3/adv_%s.png'%i,'png')"
   ]
  },
  {
   "cell_type": "code",
   "execution_count": 14,
   "metadata": {},
   "outputs": [
    {
     "name": "stdout",
     "output_type": "stream",
     "text": [
      "Variable             Type             Data/Info\n",
      "-----------------------------------------------\n",
      "BATCH_SIZE           int              128\n",
      "CIFAR10              type             <class 'cleverhans.dataset.CIFAR10'>\n",
      "CNN                  type             <class 'model.CNN'>\n",
      "CarliniWagnerL2      type             <class 'cleverhans.attacks.CarliniWagnerL2'>\n",
      "D_loss               TextIOWrapper    <_io.TextIOWrapper name='<...>de='w+' encoding='UTF-8'>\n",
      "D_loss_curr          float32          0.007557234\n",
      "D_optimizer          Operation        name: \"Adam\"\\nop: \"NoOp\"\\<...>input: \"^Adam/Assign_1\"\\n\n",
      "FastGradientMethod   type             <class 'cleverhans.attacks.FastGradientMethod'>\n",
      "G_loss               TextIOWrapper    <_io.TextIOWrapper name='<...>de='w+' encoding='UTF-8'>\n",
      "G_loss_curr          float32          0.007562696\n",
      "G_optimizer          Operation        name: \"Adam_1\"\\nop: \"NoOp<...>put: \"^Adam_1/Assign_1\"\\n\n",
      "G_sample             Tensor           Tensor(\"generator/Tanh:0\"<...>8, 28, 1), dtype=float32)\n",
      "MNIST                type             <class 'cleverhans.dataset.MNIST'>\n",
      "MyModel              type             <class 'model.MyModel'>\n",
      "all_var              list             n=15\n",
      "alpha                float            1.0\n",
      "batch_xp             ndarray          128x28x28x1: 100352 elems, type `float32`, 401408 bytes (392.0 kb)\n",
      "batch_xr             ndarray          128x28x28x1: 100352 elems, type `float32`, 401408 bytes (392.0 kb)\n",
      "batch_y              ndarray          128x10: 1280 elems, type `float32`, 5120 bytes\n",
      "bend                 int              59904\n",
      "beta                 float            1.0\n",
      "bstart               int              59776\n",
      "cv2                  module           <module 'cv2.cv2' from '/<...>35m-x86_64-linux-gnu.so'>\n",
      "d_vars               list             n=6\n",
      "dataset              str              mnist\n",
      "epoch                int              79\n",
      "fashion_mnist        module           <module 'keras.datasets.f<...>tasets/fashion_mnist.py'>\n",
      "g_vars               list             n=8\n",
      "gama                 float            0.01\n",
      "generator            function         <function generator at 0x7f450e4cee18>\n",
      "global_step          Variable         <tf.Variable 'Variable:0'<...>shape=() dtype=int32_ref>\n",
      "i                    int              467\n",
      "loss_d               Tensor           Tensor(\"mul_3:0\", shape=(), dtype=float32)\n",
      "loss_p               Tensor           Tensor(\"mul_2:0\", shape=(), dtype=float32)\n",
      "loss_p_d             Tensor           Tensor(\"Add:0\", shape=(), dtype=float32)\n",
      "loss_r               Tensor           Tensor(\"mul_1:0\", shape=(), dtype=float32)\n",
      "lr_decayed           Tensor           Tensor(\"ExponentialDecay:<...> shape=(), dtype=float32)\n",
      "mnist                MNIST            <cleverhans.dataset.MNIST<...>object at 0x7f4507bbe358>\n",
      "model                MyModel          <model.MyModel object at 0x7f4578527a58>\n",
      "network              str              cnn\n",
      "np                   module           <module 'numpy' from '/ho<...>kages/numpy/__init__.py'>\n",
      "os                   module           <module 'os' from '/home/<...>y35/lib/python3.5/os.py'>\n",
      "output_fake          Tensor           Tensor(\"discriminator_1/s<...>e=(?, 10), dtype=float32)\n",
      "output_logits_fake   Tensor           Tensor(\"discriminator_1/f<...>e=(?, 10), dtype=float32)\n",
      "output_logits_real   Tensor           Tensor(\"discriminator/fc2<...>e=(?, 10), dtype=float32)\n",
      "output_real          Tensor           Tensor(\"discriminator/sof<...>e=(?, 10), dtype=float32)\n",
      "sess                 Session          <tensorflow.python.client<...>object at 0x7f450e655be0>\n",
      "test_end             int              10000\n",
      "test_start           int              0\n",
      "tf                   module           <module 'tensorflow' from<...>/tensorflow/__init__.py'>\n",
      "total_batch          int              468\n",
      "total_loss           Tensor           Tensor(\"add_1:0\", shape=(), dtype=float32)\n",
      "train_end            int              60000\n",
      "train_start          int              0\n",
      "xp                   Tensor           Tensor(\"xp:0\", shape=(?, <...>8, 28, 1), dtype=float32)\n",
      "xp_test              ndarray          10000x28x28x1: 7840000 elems, type `float32`, 31360000 bytes (29.9072265625 Mb)\n",
      "xp_train             ndarray          60000x28x28x1: 47040000 elems, type `float32`, 188160000 bytes (179.443359375 Mb)\n",
      "xr                   Tensor           Tensor(\"xr:0\", shape=(?, <...>8, 28, 1), dtype=float32)\n",
      "xr_test              ndarray          10000x28x28x1: 7840000 elems, type `float32`, 31360000 bytes (29.9072265625 Mb)\n",
      "xr_train             ndarray          60000x28x28x1: 47040000 elems, type `float32`, 188160000 bytes (179.443359375 Mb)\n",
      "y                    Tensor           Tensor(\"Placeholder:0\", s<...>e=(?, 10), dtype=float32)\n",
      "yr_test              ndarray          10000x10: 100000 elems, type `float32`, 400000 bytes (390.625 kb)\n",
      "yr_train             ndarray          60000x10: 600000 elems, type `float32`, 2400000 bytes (2.288818359375 Mb)\n"
     ]
    }
   ],
   "source": [
    "%whos"
   ]
  }
 ],
 "metadata": {
  "kernelspec": {
   "display_name": "Python 3",
   "language": "python",
   "name": "python3"
  },
  "language_info": {
   "codemirror_mode": {
    "name": "ipython",
    "version": 3
   },
   "file_extension": ".py",
   "mimetype": "text/x-python",
   "name": "python",
   "nbconvert_exporter": "python",
   "pygments_lexer": "ipython3",
   "version": "3.5.6"
  }
 },
 "nbformat": 4,
 "nbformat_minor": 2
}
