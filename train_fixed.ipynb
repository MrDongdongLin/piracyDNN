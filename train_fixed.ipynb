{
 "cells": [
  {
   "cell_type": "code",
   "execution_count": 1,
   "metadata": {},
   "outputs": [],
   "source": [
    "import tensorflow as tf\n",
    "import numpy as np\n",
    "from cleverhans.dataset import MNIST, CIFAR10\n",
    "from cleverhans.attacks import FastGradientMethod, CarliniWagnerL2\n",
    "# from model import MyModel, CNN\n",
    "from perturbation import fixed_pattern, generator\n",
    "from model import *"
   ]
  },
  {
   "cell_type": "code",
   "execution_count": 2,
   "metadata": {},
   "outputs": [],
   "source": [
    "import os\n",
    "os.environ[\"CUDA_DEVICE_ORDER\"] = \"PCI_BUS_ID\"\n",
    "os.environ[\"CUDA_VISIBLE_DEVICES\"] = \"5\""
   ]
  },
  {
   "cell_type": "code",
   "execution_count": 3,
   "metadata": {},
   "outputs": [],
   "source": [
    "NB_EPOCHS = 100\n",
    "BATCH_SIZE = 128\n",
    "nb_classes = 10\n",
    "nb_filters = 64 # 没啥用"
   ]
  },
  {
   "cell_type": "code",
   "execution_count": 4,
   "metadata": {},
   "outputs": [],
   "source": [
    "# Get MNIST data\n",
    "train_start=0\n",
    "train_end=60000\n",
    "test_start=0\n",
    "test_end=10000\n",
    "mnist = MNIST(train_start=train_start, train_end=train_end,\n",
    "                test_start=test_start, test_end=test_end)\n",
    "xr_train, yr_train = mnist.get_set('train')\n",
    "xr_test, yr_test = mnist.get_set('test')\n",
    "#xp_train, yp_train = mnist.get_set('train')\n",
    "#xp_test, yp_test = mnist.get_set('test')\n",
    "xp_train = xr_train.copy()\n",
    "xp_test = xr_test.copy()\n",
    "#print(xp_train[0])"
   ]
  },
  {
   "cell_type": "code",
   "execution_count": 5,
   "metadata": {},
   "outputs": [],
   "source": [
    "sigma = [0.1, 0, -0.1]\n",
    "probability = [0.2, 0.6, 0.2]\n",
    "pattern = fixed_pattern(sigma, probability)\n",
    "for i in range(0, train_end):\n",
    "    xp_train[i] = xp_train[i] + pattern\n",
    "for i in range(0, test_end):\n",
    "    xp_test[i] = xp_test[i] + pattern\n",
    "#print(xp_train[0])"
   ]
  },
  {
   "cell_type": "code",
   "execution_count": 6,
   "metadata": {},
   "outputs": [],
   "source": [
    "# variables\n",
    "xr = tf.placeholder(tf.float32, [None, 28, 28, 1], name=\"xr\")\n",
    "xp = tf.placeholder(tf.float32, [None, 28, 28, 1], name=\"xp\")\n",
    "y = tf.placeholder(tf.float32, [None, 10])\n",
    "\n",
    "model = MyModel(10)\n",
    "\n",
    "output_logits_real, output_real = model.basic_cnn(xr)\n",
    "output_logits_fake, output_fake = model.basic_cnn(xp, reuse=True)\n",
    "\n",
    "# custom loss\n",
    "alpha = 1.\n",
    "beta = 1.\n",
    "gama = 0.01\n",
    "loss_r = alpha * tf.reduce_mean(tf.reduce_sum(y * output_real, -1))\n",
    "loss_p = beta * tf.reduce_mean(tf.nn.softmax_cross_entropy_with_logits(logits=output_logits_fake, labels=y))\n",
    "loss_d = gama * tf.reduce_mean(tf.square(xr - xp))\n",
    "\n",
    "total_loss = loss_r+loss_p+loss_d\n",
    "\n",
    "global_step = tf.Variable(0, trainable=False)\n",
    "lr_decayed = tf.train.exponential_decay(0.001, global_step, 10000, 0.1, staircase=False)\n",
    "optimizer = tf.train.AdamOptimizer(learning_rate=lr_decayed).minimize(total_loss)\n",
    "#print(tf.all_variables())\n",
    "\n",
    "# calculate accuracy\n",
    "correct_prediction1 = tf.equal(tf.argmax(output_fake,1), tf.argmax(y,1))\n",
    "accuracy1 = tf.reduce_mean(tf.cast(correct_prediction1, \"float\"))\n",
    "\n",
    "correct_prediction2 = tf.equal(tf.argmax(output_real,1), tf.argmax(y,1))\n",
    "accuracy2 = tf.reduce_mean(tf.cast(correct_prediction2, \"float\"))"
   ]
  },
  {
   "cell_type": "code",
   "execution_count": 7,
   "metadata": {},
   "outputs": [],
   "source": [
    "sess = tf.Session()\n",
    "sess.run(tf.global_variables_initializer())\n",
    "# sess.run(tf.tables_initializer())"
   ]
  },
  {
   "cell_type": "code",
   "execution_count": 8,
   "metadata": {},
   "outputs": [
    {
     "name": "stdout",
     "output_type": "stream",
     "text": [
      "0.099996105 2.3025718\n",
      "0.09375 0.0625\n",
      "0.07047914 0.1457195\n",
      "0.0703125 0.9609375\n",
      "0.07036947 0.08940869\n",
      "0.0703125 0.96875\n",
      "0.0703171 0.069024675\n",
      "0.0703125 0.9921875\n",
      "0.070314854 0.04973049\n",
      "0.0703125 0.9921875\n",
      "0.07031293 0.04118075\n",
      "0.0703125 0.9921875\n",
      "0.07031261 0.019713888\n",
      "0.0703125 0.9921875\n",
      "0.07031263 0.035902664\n",
      "0.0703125 0.9921875\n",
      "0.070312805 0.01762394\n",
      "0.0703125 0.9921875\n",
      "0.07031299 0.0065770186\n",
      "0.0703125 1.0\n",
      "0.07031425 0.01412046\n",
      "0.0703125 0.9921875\n",
      "0.07031265 0.023084328\n",
      "0.0703125 0.9921875\n",
      "0.07031259 0.0025312603\n",
      "0.0703125 1.0\n",
      "0.07031256 0.026542747\n",
      "0.0703125 0.984375\n",
      "0.0703125 0.0077087046\n",
      "0.0703125 1.0\n",
      "0.07031437 0.025258606\n",
      "0.0703125 0.9921875\n",
      "0.0703125 0.00040847698\n",
      "0.0703125 1.0\n",
      "0.070312575 0.002642321\n",
      "0.0703125 1.0\n",
      "0.0703125 0.00061368186\n",
      "0.0703125 1.0\n",
      "0.07031251 0.026582291\n",
      "0.0703125 0.9921875\n",
      "0.0703125 0.029683864\n",
      "0.0703125 0.9921875\n",
      "0.0703125 0.00010970449\n",
      "0.0703125 1.0\n",
      "0.0703125 0.000718014\n",
      "0.0703125 1.0\n",
      "0.0703125 3.8901202e-05\n",
      "0.0703125 1.0\n",
      "0.0703125 0.00042018236\n",
      "0.0703125 1.0\n",
      "0.07031252 6.0612496e-05\n",
      "0.0703125 1.0\n",
      "0.0703125 0.0009561171\n",
      "0.0703125 1.0\n",
      "0.0703125 0.00764879\n",
      "0.0703125 0.9921875\n",
      "0.0703125 0.0008726693\n",
      "0.0703125 1.0\n",
      "0.0703125 0.00038955238\n",
      "0.0703125 1.0\n",
      "0.0703125 0.002305218\n",
      "0.0703125 1.0\n",
      "0.0703125 0.0014368079\n",
      "0.0703125 1.0\n",
      "0.0703125 0.00028533477\n",
      "0.0703125 1.0\n",
      "0.0703125 3.8985592e-05\n",
      "0.0703125 1.0\n",
      "0.0703125 0.00088813854\n",
      "0.0703125 1.0\n",
      "0.0703125 2.1383252e-05\n",
      "0.0703125 1.0\n",
      "0.0703125 0.00023569494\n",
      "0.0703125 1.0\n",
      "0.0703125 0.00019957154\n",
      "0.0703125 1.0\n",
      "0.0703125 0.0028135115\n",
      "0.0703125 1.0\n",
      "0.0703125 2.5536461e-05\n",
      "0.0703125 1.0\n",
      "0.0703125 2.0290063e-05\n",
      "0.0703125 1.0\n",
      "0.0703125 0.00016323356\n",
      "0.0703125 1.0\n",
      "0.0703125 0.0002044667\n",
      "0.0703125 1.0\n",
      "0.0703125 2.6666832e-05\n",
      "0.0703125 1.0\n",
      "0.0703125 2.6507021e-05\n",
      "0.0703125 1.0\n",
      "0.0703125 0.018226374\n",
      "0.0703125 0.9921875\n",
      "0.0703125 0.00012345077\n",
      "0.0703125 1.0\n",
      "0.0703125 0.0004160815\n",
      "0.0703125 1.0\n",
      "0.0703125 4.8070775e-05\n",
      "0.0703125 1.0\n",
      "0.0703125 1.0858728e-06\n",
      "0.0703125 1.0\n",
      "0.0703125 0.031742394\n",
      "0.0703125 0.9921875\n",
      "0.0703125 2.1997876e-05\n",
      "0.0703125 1.0\n",
      "0.0703125 0.0012698381\n",
      "0.0703125 1.0\n",
      "0.0703125 6.211806e-07\n",
      "0.0703125 1.0\n",
      "0.0703125 0.00011917144\n",
      "0.0703125 1.0\n",
      "0.0703125 8.750595e-05\n",
      "0.0703125 1.0\n",
      "0.0703125 0.00057390134\n",
      "0.0703125 1.0\n",
      "0.0703125 0.0001590232\n",
      "0.0703125 1.0\n",
      "0.0703125 0.0028749653\n",
      "0.0703125 1.0\n",
      "0.0703125 6.5669865e-06\n",
      "0.0703125 1.0\n",
      "0.0703125 1.1873612e-06\n",
      "0.0703125 1.0\n",
      "0.0703125 9.275767e-06\n",
      "0.0703125 1.0\n",
      "0.0703125 8.425942e-05\n",
      "0.0703125 1.0\n",
      "0.0703125 6.776481e-06\n",
      "0.0703125 1.0\n",
      "0.0703125 5.911689e-05\n",
      "0.0703125 1.0\n",
      "0.0703125 6.842844e-05\n",
      "0.0703125 1.0\n",
      "0.0703125 5.33849e-06\n",
      "0.0703125 1.0\n",
      "0.0703125 2.5793144e-05\n",
      "0.0703125 1.0\n",
      "0.0703125 2.793966e-08\n",
      "0.0703125 1.0\n",
      "0.0703125 0.00245253\n",
      "0.0703125 1.0\n",
      "0.0703125 4.0410296e-06\n",
      "0.0703125 1.0\n",
      "0.0703125 4.7489946e-05\n",
      "0.0703125 1.0\n",
      "0.0703125 0.00076354697\n",
      "0.0703125 1.0\n",
      "0.0703125 3.362578e-06\n",
      "0.0703125 1.0\n",
      "0.0703125 0.038882554\n",
      "0.0703125 0.9921875\n",
      "0.0703125 2.992983e-06\n",
      "0.0703125 1.0\n",
      "0.0703125 9.145101e-07\n",
      "0.0703125 1.0\n",
      "0.0703125 7.3105605e-07\n",
      "0.0703125 1.0\n",
      "0.0703125 3.6034571e-06\n",
      "0.0703125 1.0\n",
      "0.0703125 4.712063e-05\n",
      "0.0703125 1.0\n"
     ]
    }
   ],
   "source": [
    "total_batch = int(xr_train.shape[0] / BATCH_SIZE)\n",
    "# T_loss = open('out/acc_loss/fixed_total_loss.txt','w+')\n",
    "# D_loss = open('out/acc_loss/fixed_r_loss.txt','w+')\n",
    "# G_loss = open('out/acc_loss/fixed_p_loss.txt','w+')\n",
    "for epoch in range(80):\n",
    "    for i in range(total_batch):\n",
    "        bstart, bend = i*BATCH_SIZE, (i+1)*BATCH_SIZE\n",
    "        batch_xr, batch_xp = xr_train[bstart:bend], xp_train[bstart:bend]\n",
    "        batch_yp = yr_train[bstart:bend]\n",
    "\n",
    "        _, t_loss, temp_loss1, temp_loss2, temp_acc1, temp_acc2 = sess.run([optimizer,total_loss,loss_r,loss_p,accuracy2,accuracy1],\n",
    "                                   feed_dict={xr: batch_xr,\n",
    "                                              xp: batch_xp,\n",
    "                                              y: batch_yp})\n",
    "        if i % 2000 == 0:\n",
    "            print(temp_loss1, temp_loss2)\n",
    "            print(temp_acc1,temp_acc2)\n",
    "#         T_loss.write(str(t_loss)+'\\n')\n",
    "#         D_loss.write(str(temp_loss1)+'\\n')\n",
    "#         G_loss.write(str(temp_loss2)+'\\n')\n",
    "# T_loss.close()\n",
    "# D_loss.close()\n",
    "# G_loss.close()"
   ]
  },
  {
   "cell_type": "markdown",
   "metadata": {},
   "source": [
    "# save model"
   ]
  },
  {
   "cell_type": "code",
   "execution_count": 10,
   "metadata": {},
   "outputs": [
    {
     "data": {
      "text/plain": [
       "'./savemodel/cnn/cnnmodel'"
      ]
     },
     "execution_count": 10,
     "metadata": {},
     "output_type": "execute_result"
    }
   ],
   "source": [
    "# saver = tf.train.Saver()\n",
    "# sess.run(tf.global_variables_initializer())\n",
    "# sess.run(tf.tables_initializer())\n",
    "# # saver.save(sess,\"./savemodel/cnn/cnnmodel.ckpt\")\n",
    "# saver.save(sess,\"./savemodel/cnn/cnnmodel\")"
   ]
  },
  {
   "cell_type": "code",
   "execution_count": 12,
   "metadata": {},
   "outputs": [
    {
     "data": {
      "text/plain": [
       "'./savemodel/cnn/cnn_fixed.ckpt'"
      ]
     },
     "execution_count": 12,
     "metadata": {},
     "output_type": "execute_result"
    }
   ],
   "source": [
    "# # save model\n",
    "# saver = tf.train.Saver()\n",
    "# saver.save(sess,\"./savemodel/cnn/cnn_fixed.ckpt\")"
   ]
  },
  {
   "cell_type": "code",
   "execution_count": 9,
   "metadata": {},
   "outputs": [
    {
     "name": "stdout",
     "output_type": "stream",
     "text": [
      "raw input accuracy 0.0974\n",
      "processed input accuracy 0.9903\n"
     ]
    }
   ],
   "source": [
    "# with tf.Session() as sess:\n",
    "#     tf.global_variables_initializer().run()\n",
    "print(\"raw input accuracy %g\"       %accuracy2.eval(session=sess, feed_dict={xr: xr_test, y: yr_test}))\n",
    "print(\"processed input accuracy %g\" %accuracy1.eval(session=sess, feed_dict={xp: xp_test, y: yr_test}))"
   ]
  },
  {
   "cell_type": "code",
   "execution_count": 11,
   "metadata": {},
   "outputs": [],
   "source": [
    "# sess.close()"
   ]
  },
  {
   "cell_type": "markdown",
   "metadata": {},
   "source": [
    "# generate adversarial examples using CleverHans\n",
    "note that the session is still open"
   ]
  },
  {
   "cell_type": "markdown",
   "metadata": {},
   "source": [
    "## FGSM\n",
    "we can modeified parameter \"eps\" to get different adversarial examples"
   ]
  },
  {
   "cell_type": "code",
   "execution_count": 10,
   "metadata": {},
   "outputs": [
    {
     "name": "stderr",
     "output_type": "stream",
     "text": [
      "/home/ldd/anaconda3/envs/py35/lib/python3.5/site-packages/cleverhans/compat.py:33: UserWarning: Running on tensorflow version 1.4.0. Support for this version in CleverHans is deprecated and may be removed on or after 2019-01-26\n",
      "  warnings.warn(warning)\n",
      "/home/ldd/anaconda3/envs/py35/lib/python3.5/site-packages/cleverhans/compat.py:130: UserWarning: Running on tensorflow version 1.4.0. Support for this version in CleverHans is deprecated and may be removed on or after 2019-01-26\n",
      "  warnings.warn(warning)\n"
     ]
    },
    {
     "name": "stdout",
     "output_type": "stream",
     "text": [
      "Iteration 0\n",
      "Iteration 2000\n",
      "Iteration 4000\n",
      "Iteration 6000\n",
      "Iteration 8000\n",
      "Iteration 10000\n",
      "Iteration 12000\n",
      "Iteration 14000\n",
      "Iteration 16000\n",
      "Iteration 18000\n",
      "Iteration 20000\n",
      "Iteration 22000\n",
      "Iteration 24000\n",
      "Iteration 26000\n",
      "Iteration 28000\n",
      "Iteration 30000\n",
      "Iteration 32000\n",
      "Iteration 34000\n",
      "Iteration 36000\n",
      "Iteration 38000\n",
      "Iteration 40000\n",
      "Iteration 42000\n",
      "Iteration 44000\n",
      "Iteration 46000\n",
      "Iteration 48000\n",
      "Iteration 50000\n",
      "Iteration 52000\n",
      "Iteration 54000\n",
      "Iteration 56000\n",
      "Iteration 58000\n"
     ]
    }
   ],
   "source": [
    "x = tf.placeholder(tf.float32, [None, 28, 28, 1])\n",
    "attack_model = CNN('cnn', 10)\n",
    "NUM_CLASSES = 10\n",
    "target_class = tf.reshape(tf.one_hot(2,NUM_CLASSES),[1,NUM_CLASSES])\n",
    "fgsm_params = {\n",
    "    'eps': 0.05,\n",
    "    'clip_min': 0,\n",
    "    'clip_max': 1.,\n",
    "    'y_target': target_class\n",
    "}\n",
    "it = 10 # iterative FGSM\n",
    "\n",
    "# init = tf.global_variables_initializer()\n",
    "# sess = tf.Session()\n",
    "# sess.run(init)\n",
    "\n",
    "# with tf.Session() as sess:\n",
    "#   sess.run(init)\n",
    "fgsm = FastGradientMethod(attack_model, sess=sess)\n",
    "x_adv = fgsm.generate(x, **fgsm_params)\n",
    "#   saver = tf.train.Saver()\n",
    "#   saver.restore(sess, './savemodel/cnn/cnnmodel.ckpt')\n",
    "#   saver = tf.train.import_meta_graph('./savemodel/cnn/cnnmodel.meta')\n",
    "#   saver.restore(sess,tf.train.latest_checkpoint('./savemodel/cnn/'))\n",
    "adv_images = np.zeros((60000,28,28,1))\n",
    "for j in range(60000): # np.shape(xr_train)[0]=60000\n",
    "    adv_images[j] = xr_train[j].reshape(-1,28,28,1)\n",
    "    if j%2000==0:\n",
    "        print(\"Iteration \"+str(j))\n",
    "    for i in range(it):\n",
    "        adv_images[j] = sess.run(x_adv, feed_dict={x: adv_images[j].reshape(-1,28,28,1)}) #xr_train[0:10]})"
   ]
  },
  {
   "cell_type": "code",
   "execution_count": 12,
   "metadata": {},
   "outputs": [
    {
     "data": {
      "image/png": "[encoded data removed]",
      "text/plain": [
       "<Figure size 432x288 with 1 Axes>"
      ]
     },
     "metadata": {
      "needs_background": "light"
     },
     "output_type": "display_data"
    }
   ],
   "source": [
    "import matplotlib.pyplot as plt\n",
    "plt.imshow(adv_images[3].reshape(-1,28), cmap='gray')\n",
    "plt.show()"
   ]
  },
  {
   "cell_type": "code",
   "execution_count": 13,
   "metadata": {},
   "outputs": [
    {
     "name": "stdout",
     "output_type": "stream",
     "text": [
      "test accuracy 0.9944\n"
     ]
    }
   ],
   "source": [
    "adv = tf.placeholder(tf.float32, [None, 28, 28, 1], name=\"adv\")\n",
    "_, output_adv = model.basic_cnn(adv, reuse=True)\n",
    "\n",
    "correct_prediction2 = tf.equal(tf.argmax(output_adv, -1), tf.argmax(target_class, -1))\n",
    "accuracy2 = tf.reduce_mean(tf.cast(correct_prediction2, \"float\"))\n",
    "print(\"test accuracy %g\" %accuracy2.eval(session=sess, feed_dict={adv:adv_images}))"
   ]
  },
  {
   "cell_type": "markdown",
   "metadata": {},
   "source": [
    "# Learn a surragate ATM"
   ]
  },
  {
   "cell_type": "code",
   "execution_count": 14,
   "metadata": {},
   "outputs": [],
   "source": [
    "def surrogate_generator(inputs, reuse=False):\n",
    "    with tf.variable_scope(\"surrogate_generator\", reuse=reuse) as scope:\n",
    "        x = conv2d(inputs, 32,5,5,1,1, name='conv1')\n",
    "        x = conv2d(x, 16,1,1,1,1, name='bottleconv')\n",
    "        x = conv2d(x, 16,3,3,1,1, name='conv2')\n",
    "        x = conv2d(x, 32,1,1,1,1, name='conv3')\n",
    "        x = slim.flatten(x, scope='flatten')\n",
    "        xl = slim.fully_connected(x, 784, activation_fn=None, scope='fc')\n",
    "        xl = tf.reshape(xl,[-1,28,28,1])\n",
    "        # xl = linear(x, 1, scope='fc')\n",
    "        xl = inputs + xl\n",
    "        xp = tf.nn.tanh(xl)\n",
    "        x_logits = slim.fully_connected(slim.dropout(x, 0.5), 10, activation_fn=None, scope='fc2')\n",
    "        x_logits = tf.nn.softmax(x_logits, name=\"softmax\")\n",
    "        # xl = tf.reshape(xl,[-1,28,28,1])\n",
    "        return x_logits, xp\n",
    "\n",
    "# define model\n",
    "_xr  = tf.placeholder(tf.float32, [None, 28, 28, 1], name=\"xr\")\n",
    "_adv = tf.placeholder(tf.float32, [None, 28, 28, 1], name=\"adv\")\n",
    "_y   = tf.placeholder(tf.float32, [None, 10])\n",
    "\n",
    "gen_adv_logits, gen_adv = surrogate_generator(_xr)\n",
    "\n",
    "_loss_label = tf.reduce_mean(tf.nn.softmax_cross_entropy_with_logits(logits=gen_adv_logits, labels=_y))\n",
    "_loss_image = tf.reduce_mean(tf.square(_adv - gen_adv))\n",
    "_total_loss = tf.add(_loss_label, _loss_image)\n",
    "\n",
    "# learning rate\n",
    "_global_step = tf.Variable(0, trainable=False)   \n",
    "_lr_decayed = tf.train.exponential_decay(0.001, _global_step, 2*10000, 0.1, staircase=False)\n",
    "\n",
    "# variable list\n",
    "_all_var = tf.global_variables()\n",
    "_g_vars = [var for var in _all_var if 'generator' in var.name]\n",
    "# optimizer\n",
    "_G_optimizer = tf.train.AdamOptimizer(learning_rate=_lr_decayed).minimize(_total_loss, var_list=[_g_vars])"
   ]
  },
  {
   "cell_type": "code",
   "execution_count": 17,
   "metadata": {},
   "outputs": [
    {
     "name": "stdout",
     "output_type": "stream",
     "text": [
      "2.325075 2.3025851 0.02248982\n",
      "1.4745941 1.46122 0.013374127\n",
      "1.4744276 1.4612198 0.013207832\n",
      "1.4743084 1.4612073 0.013101152\n",
      "1.4742287 1.4611992 0.013029584\n",
      "1.4741738 1.4611955 0.012978309\n",
      "1.4741235 1.4611905 0.012933035\n",
      "1.4740702 1.4611893 0.0128808655\n",
      "1.4739826 1.4611781 0.012804533\n",
      "1.4738605 1.461169 0.012691489\n",
      "1.4737394 1.4611676 0.012571792\n",
      "1.4736406 1.461169 0.012471572\n",
      "1.4735799 1.4611709 0.012408935\n",
      "1.47354 1.461173 0.012366916\n",
      "1.4735221 1.4611664 0.012355667\n",
      "1.4734994 1.4611703 0.012329061\n",
      "1.4734455 1.4611775 0.012268075\n",
      "1.4734057 1.4611773 0.012228326\n",
      "1.4733716 1.461183 0.012188629\n",
      "1.4733448 1.4611871 0.012157711\n",
      "1.473311 1.4611813 0.012129608\n",
      "1.4732903 1.461183 0.012107428\n",
      "1.4732721 1.4611847 0.012087341\n",
      "1.4732438 1.4611753 0.012068481\n",
      "1.4732038 1.4611676 0.012036223\n",
      "1.4731714 1.4611663 0.012005046\n",
      "1.4731394 1.4611759 0.011963477\n",
      "1.4730768 1.4611688 0.011908039\n",
      "1.4730173 1.461165 0.011852349\n",
      "1.4729915 1.4611653 0.011826141\n",
      "1.4729574 1.4611666 0.011790788\n",
      "1.4728998 1.4611603 0.011739529\n",
      "1.4728482 1.4611607 0.01168749\n",
      "1.4728225 1.461163 0.011659523\n",
      "1.4727873 1.4611572 0.011630051\n",
      "1.4727597 1.4611555 0.011604163\n",
      "1.4727353 1.4611566 0.011578726\n",
      "1.4727149 1.461154 0.011560888\n",
      "1.4727013 1.4611566 0.011544695\n",
      "1.4726902 1.4611542 0.011535998\n",
      "1.4726679 1.4611552 0.011512759\n",
      "1.4726616 1.4611547 0.011506862\n",
      "1.4726475 1.4611557 0.011491867\n",
      "1.4726222 1.4611552 0.011466937\n",
      "1.4726398 1.4611541 0.011485684\n",
      "1.4726151 1.4611547 0.011460377\n",
      "1.4725938 1.4611528 0.011441015\n",
      "1.4725919 1.4611526 0.01143934\n",
      "1.472581 1.4611516 0.011429488\n",
      "1.4725705 1.4611518 0.011418741\n",
      "1.4725798 1.4611516 0.011428272\n",
      "1.4725809 1.4611511 0.011429788\n",
      "1.4726017 1.4611509 0.011450795\n",
      "1.4725791 1.4611506 0.011428453\n",
      "1.4725885 1.4611509 0.01143767\n",
      "1.4726093 1.4611508 0.011458561\n",
      "1.4726095 1.4611506 0.011458898\n",
      "1.472623 1.4611505 0.011472408\n",
      "1.472655 1.4611504 0.0115046315\n",
      "1.4726852 1.4611504 0.011534867\n",
      "1.4726374 1.4611504 0.011486956\n",
      "1.4726124 1.4611504 0.01146195\n",
      "1.4725972 1.4611502 0.011447125\n",
      "1.4725505 1.4611504 0.0114001315\n",
      "1.4725535 1.4611503 0.011403206\n",
      "1.4725034 1.4611502 0.011353239\n",
      "1.4724791 1.4611502 0.011328954\n",
      "1.4724855 1.4611502 0.011335357\n",
      "1.4724629 1.4611502 0.011312699\n",
      "1.4724666 1.4611502 0.011316439\n",
      "1.4725101 1.4611502 0.011359971\n",
      "1.4725817 1.4611502 0.011431584\n",
      "1.4727263 1.4611502 0.011576192\n",
      "1.4726926 1.4611502 0.011542468\n",
      "1.4726723 1.4611502 0.011522165\n",
      "1.4726555 1.4611502 0.011505338\n",
      "1.4726272 1.4611502 0.011476967\n",
      "1.4726088 1.4611502 0.011458582\n",
      "1.4726049 1.4611502 0.011454746\n",
      "1.4725735 1.4611502 0.011423317\n"
     ]
    }
   ],
   "source": [
    "# sess = tf.Session()\n",
    "sess.run(tf.global_variables_initializer())\n",
    "# sess.run(tf.tables_initializer())\n",
    "\n",
    "target_label = sess.run(target_class)\n",
    "\n",
    "# BATCH_SIZE = 128\n",
    "_total_batch = int(60000 / BATCH_SIZE)\n",
    "# T_loss = open('out/acc_loss/fixed_total_loss.txt','w+')\n",
    "# D_loss = open('out/acc_loss/fixed_r_loss.txt','w+')\n",
    "# G_loss = open('out/acc_loss/fixed_p_loss.txt','w+')\n",
    "for epoch in range(80):\n",
    "    for i in range(_total_batch):\n",
    "        bstart, bend = i*BATCH_SIZE, (i+1)*BATCH_SIZE\n",
    "        batch_xr, batch_xp = xr_train[bstart:bend], adv_images[bstart:bend]\n",
    "        batch_y = np.repeat(target_label, BATCH_SIZE, axis=0)\n",
    "\n",
    "        _, G_loss_curr, _loss_l, _loss_i = sess.run([_G_optimizer, _total_loss, _loss_label, _loss_image],\n",
    "                                  feed_dict={_xr: batch_xr,\n",
    "                                             _adv: batch_xp,\n",
    "                                             _y: batch_y})\n",
    "        if i % 1000 == 0:\n",
    "            print(G_loss_curr, _loss_l, _loss_i)\n",
    "#     T_loss.write(str(t_loss)+'\\n')\n",
    "#     D_loss.write(str(temp_loss1)+'\\n')\n",
    "#     G_loss.write(str(temp_loss2)+'\\n')\n",
    "# T_loss.close()\n",
    "# D_loss.close()\n",
    "# G_loss.close()"
   ]
  },
  {
   "cell_type": "code",
   "execution_count": 18,
   "metadata": {},
   "outputs": [
    {
     "name": "stdout",
     "output_type": "stream",
     "text": [
      "fixed adversarial accuracy 1\n"
     ]
    }
   ],
   "source": [
    "_xin = tf.placeholder(tf.float32, [None, 28, 28, 1], name=\"xin\")\n",
    "# _y  = tf.placeholder(tf.float32, [None, 10])\n",
    "target_label = sess.run(target_class)\n",
    "\n",
    "_gen_adv_logits, _gen_adv = surrogate_generator(_xin, reuse=True)\n",
    "\n",
    "# g_sample = sess.run(_gen_adv, feed_dict={_xin: xr_test[0].reshape(-1,28,28,1)})\n",
    "# plt.imshow(g_sample.reshape(-1,28))\n",
    "\n",
    "# calculate accuracy\n",
    "_correct_prediction = tf.equal(tf.argmax(_gen_adv_logits, axis=-1), tf.argmax(target_class, axis=-1))\n",
    "_accuracy_fake = tf.reduce_mean(tf.cast(_correct_prediction, \"float\"))\n",
    "\n",
    "print(\"fixed adversarial accuracy %g\" %_accuracy_fake.eval(session=sess, feed_dict={_xin: xr_test}))"
   ]
  },
  {
   "cell_type": "code",
   "execution_count": 19,
   "metadata": {},
   "outputs": [
    {
     "data": {
      "text/plain": [
       "<matplotlib.image.AxesImage at 0x7f6324135c50>"
      ]
     },
     "execution_count": 19,
     "metadata": {},
     "output_type": "execute_result"
    },
    {
     "data": {
      "image/png": "[encoded data removed]",
      "text/plain": [
       "<Figure size 432x288 with 1 Axes>"
      ]
     },
     "metadata": {
      "needs_background": "light"
     },
     "output_type": "display_data"
    }
   ],
   "source": [
    "g_sample = sess.run(_gen_adv, feed_dict={_xin: xr_test[0].reshape(-1,28,28,1)})\n",
    "plt.imshow(g_sample.reshape(-1,28))"
   ]
  },
  {
   "cell_type": "markdown",
   "metadata": {},
   "source": [
    "## save data as tfrecord"
   ]
  },
  {
   "cell_type": "code",
   "execution_count": 15,
   "metadata": {},
   "outputs": [],
   "source": [
    "def _int64_feature(value):\n",
    "    return tf.train.Feature(int64_list=tf.train.Int64List(value=[value]))\n",
    "def _bytes_feature(value):\n",
    "    return tf.train.Feature(bytes_list=tf.train.BytesList(value=[value]))"
   ]
  },
  {
   "cell_type": "code",
   "execution_count": 16,
   "metadata": {},
   "outputs": [],
   "source": [
    "with tf.Session() as session:\n",
    "    target_label = session.run(target_class)"
   ]
  },
  {
   "cell_type": "code",
   "execution_count": 17,
   "metadata": {},
   "outputs": [],
   "source": [
    "filename = \"./out/adv_fixed_mnist.tfrecords\"\n",
    "writer = tf.python_io.TFRecordWriter(filename)\n",
    "for i in range(50000):\n",
    "    images_raw = adv_images[i].tostring()\n",
    "    example = tf.train.Example(features=tf.train.Features(feature={\n",
    "        'label': _int64_feature(np.argmax(target_label)),\n",
    "        'image': _bytes_feature(images_raw)}))\n",
    "    writer.write(example.SerializeToString())\n",
    "writer.close()"
   ]
  },
  {
   "cell_type": "code",
   "execution_count": 22,
   "metadata": {},
   "outputs": [],
   "source": [
    "# from PIL import Image\n",
    "\n",
    "# for i in range(50000):\n",
    "#     im = adv_images[i].reshape(28,28)\n",
    "#     img= Image.fromarray(im*255)\n",
    "#     img = img.convert('RGB')\n",
    "#     img.save('out/adversarial/fixed/3/adv_%s.png'%i,'png')"
   ]
  },
  {
   "cell_type": "markdown",
   "metadata": {},
   "source": [
    "## Manual calculation (TODO)\n",
    "we can use FGSM method which written by ourselves to generate adversarial examples"
   ]
  },
  {
   "cell_type": "code",
   "execution_count": null,
   "metadata": {},
   "outputs": [],
   "source": [
    "def step_fgsm(x, eps, logits):\n",
    "    label = tf.argmax(logits,1)\n",
    "    one_hot_label = tf.one_hot(label, NUM_CLASSES)\n",
    "    cross_entropy = tf.losses.softmax_cross_entropy(one_hot_label,\n",
    "                                                  logits,\n",
    "                                                  label_smoothing=0.1,\n",
    "                                                  weights=1.0)\n",
    "    x_adv = x + eps*tf.sign(tf.gradients(cross_entropy,x)[0])\n",
    "    x_adv = tf.clip_by_value(x_adv,-1.0,1.0)\n",
    "    return tf.stop_gradient(x_adv)\n",
    " \n",
    "def step_targeted_attack(x, eps, one_hot_target_class, logits):\n",
    "    #one_hot_target_class = tf.one_hot(target, NUM_CLASSES)\n",
    "    #print(one_hot_target_class,\"\\n\\n\")\n",
    "    cross_entropy = tf.losses.softmax_cross_entropy(one_hot_target_class,\n",
    "                                                  logits,\n",
    "                                                  label_smoothing=0.1,\n",
    "                                                  weights=1.0)\n",
    "    x_adv = x - eps * tf.sign(tf.gradients(cross_entropy, x)[0])\n",
    "    x_adv = tf.clip_by_value(x_adv, -1.0, 1.0)\n",
    "    return tf.stop_gradient(x_adv)\n",
    "\n",
    "def step_ll_adversarial_images(x, eps, logits):\n",
    "    least_likely_class = tf.argmin(logits, 1)\n",
    "    one_hot_ll_class = tf.one_hot(least_likely_class, NUM_CLASSES)\n",
    "    one_hot_ll_class = tf.reshape(one_hot_ll_class,[1,NUM_CLASSES])\n",
    "    # This reuses the method described above\n",
    "    return step_targeted_attack(x, eps, one_hot_ll_class, logits)"
   ]
  },
  {
   "cell_type": "code",
   "execution_count": null,
   "metadata": {},
   "outputs": [],
   "source": [
    "softmax_tensor = sess.graph.get_tensor_by_name('discriminator/fc2/add:0')\n",
    "image_tensor = sess.graph.get_tensor_by_name('xr:0')\n",
    "target_class = tf.reshape(tf.one_hot(2,NUM_CLASSES),[1,NUM_CLASSES])\n",
    "\n",
    "adv_image_tensor = step_targeted_attack(image_tensor, fgsm_params['eps'], target_class, softmax_tensor)\n",
    "adv_image = xr_train[0].reshape(-1,28,28,1)\n",
    "t = adv_image.copy()\n",
    "adv_noise = np.zeros(t.shape)\n",
    "# for j in range(100):\n",
    "j=0\n",
    "adv_image = xr_train[j].reshape(-1,28,28,1)\n",
    "if j%2000==0:\n",
    "    print(\"Iteration \"+str(j))\n",
    "for i in range(it):\n",
    "    #print(\"Iteration \"+str(i))\n",
    "    adv_image = sess.run(adv_image_tensor,{'xr:0': adv_image})\n",
    "adv_noise = np.concatenate((adv_noise, adv_image))\n",
    "#plt.imshow(adv_image.reshape(-1,28))"
   ]
  },
  {
   "cell_type": "code",
   "execution_count": null,
   "metadata": {},
   "outputs": [],
   "source": [
    "plt.imshow(adv_image[0].reshape(-1,28))"
   ]
  },
  {
   "cell_type": "markdown",
   "metadata": {},
   "source": [
    "test accuracy"
   ]
  },
  {
   "cell_type": "code",
   "execution_count": null,
   "metadata": {},
   "outputs": [],
   "source": [
    "adv = tf.placeholder(tf.float32, [None, 28, 28, 1], name=\"adv\")\n",
    "output_logits_adv, output_adv = model.basic_cnn(adv, reuse=True)\n",
    "\n",
    "correct_prediction2 = tf.equal(tf.argmax(output_adv, -1), tf.argmax(target_class, -1))\n",
    "accuracy2 = tf.reduce_mean(tf.cast(correct_prediction2, \"float\"))\n",
    "print(\"test accuracy %g\" %accuracy2.eval(session=sess, feed_dict={adv:adv_images}))"
   ]
  },
  {
   "cell_type": "code",
   "execution_count": 11,
   "metadata": {},
   "outputs": [
    {
     "name": "stdout",
     "output_type": "stream",
     "text": [
      "Variable              Type             Data/Info\n",
      "------------------------------------------------\n",
      "BATCH_SIZE            int              128\n",
      "CIFAR10               type             <class 'cleverhans.dataset.CIFAR10'>\n",
      "CNN                   type             <class 'model.CNN'>\n",
      "CarliniWagnerL2       type             <class 'cleverhans.attacks.CarliniWagnerL2'>\n",
      "D_loss                TextIOWrapper    <_io.TextIOWrapper name='<...>de='w+' encoding='UTF-8'>\n",
      "FastGradientMethod    type             <class 'cleverhans.attacks.FastGradientMethod'>\n",
      "G_loss                TextIOWrapper    <_io.TextIOWrapper name='<...>de='w+' encoding='UTF-8'>\n",
      "MNIST                 type             <class 'cleverhans.dataset.MNIST'>\n",
      "MyModel               type             <class 'model.MyModel'>\n",
      "NB_EPOCHS             int              100\n",
      "T_loss                TextIOWrapper    <_io.TextIOWrapper name='<...>de='w+' encoding='UTF-8'>\n",
      "accuracy1             Tensor           Tensor(\"Mean_3:0\", shape=(), dtype=float32)\n",
      "accuracy2             Tensor           Tensor(\"Mean_4:0\", shape=(), dtype=float32)\n",
      "alpha                 float            1.0\n",
      "batch_xp              ndarray          128x28x28x1: 100352 elems, type `float32`, 401408 bytes (392.0 kb)\n",
      "batch_xr              ndarray          128x28x28x1: 100352 elems, type `float32`, 401408 bytes (392.0 kb)\n",
      "batch_yp              ndarray          128x10: 1280 elems, type `float32`, 5120 bytes\n",
      "bend                  int              59904\n",
      "beta                  float            1.0\n",
      "bstart                int              59776\n",
      "correct_prediction1   Tensor           Tensor(\"Equal:0\", shape=(?,), dtype=bool)\n",
      "correct_prediction2   Tensor           Tensor(\"Equal_1:0\", shape=(?,), dtype=bool)\n",
      "epoch                 int              79\n",
      "fixed_pattern         function         <function fixed_pattern at 0x7f4c88a538c8>\n",
      "gama                  float            0.01\n",
      "generator             function         <function generator at 0x7f4c88a53bf8>\n",
      "global_step           Variable         <tf.Variable 'Variable:0'<...>shape=() dtype=int32_ref>\n",
      "i                     int              467\n",
      "loss_d                Tensor           Tensor(\"mul_3:0\", shape=(), dtype=float32)\n",
      "loss_p                Tensor           Tensor(\"mul_2:0\", shape=(), dtype=float32)\n",
      "loss_r                Tensor           Tensor(\"mul_1:0\", shape=(), dtype=float32)\n",
      "lr_decayed            Tensor           Tensor(\"ExponentialDecay:<...> shape=(), dtype=float32)\n",
      "mnist                 MNIST            <cleverhans.dataset.MNIST<...>object at 0x7f4c88a51cf8>\n",
      "model                 MyModel          <model.MyModel object at 0x7f4c85e114e0>\n",
      "nb_classes            int              10\n",
      "nb_filters            int              64\n",
      "np                    module           <module 'numpy' from '/ho<...>kages/numpy/__init__.py'>\n",
      "optimizer             Operation        name: \"Adam\"\\nop: \"NoOp\"\\<...>input: \"^Adam/Assign_1\"\\n\n",
      "os                    module           <module 'os' from '/home/<...>y35/lib/python3.5/os.py'>\n",
      "output_fake           Tensor           Tensor(\"discriminator_1/s<...>e=(?, 10), dtype=float32)\n",
      "output_logits_fake    Tensor           Tensor(\"discriminator_1/f<...>e=(?, 10), dtype=float32)\n",
      "output_logits_real    Tensor           Tensor(\"discriminator/fc2<...>e=(?, 10), dtype=float32)\n",
      "output_real           Tensor           Tensor(\"discriminator/sof<...>e=(?, 10), dtype=float32)\n",
      "pattern               ndarray          28x28x1: 784 elems, type `float64`, 6272 bytes\n",
      "probability           list             n=3\n",
      "saver                 Saver            <tensorflow.python.traini<...>object at 0x7f4c88a517f0>\n",
      "sess                  Session          <tensorflow.python.client<...>object at 0x7f4c88a518d0>\n",
      "sigma                 list             n=3\n",
      "t_loss                float32          0.07816679\n",
      "temp_acc1             float32          0.078125\n",
      "temp_acc2             float32          1.0\n",
      "temp_loss1            float32          0.078125\n",
      "temp_loss2            float32          8.38189e-08\n",
      "test_end              int              10000\n",
      "test_start            int              0\n",
      "tf                    module           <module 'tensorflow' from<...>/tensorflow/__init__.py'>\n",
      "total_batch           int              468\n",
      "total_loss            Tensor           Tensor(\"add_1:0\", shape=(), dtype=float32)\n",
      "train_end             int              60000\n",
      "train_start           int              0\n",
      "xp                    Tensor           Tensor(\"xp:0\", shape=(?, <...>8, 28, 1), dtype=float32)\n",
      "xp_test               ndarray          10000x28x28x1: 7840000 elems, type `float32`, 31360000 bytes (29.9072265625 Mb)\n",
      "xp_train              ndarray          60000x28x28x1: 47040000 elems, type `float32`, 188160000 bytes (179.443359375 Mb)\n",
      "xr                    Tensor           Tensor(\"xr:0\", shape=(?, <...>8, 28, 1), dtype=float32)\n",
      "xr_test               ndarray          10000x28x28x1: 7840000 elems, type `float32`, 31360000 bytes (29.9072265625 Mb)\n",
      "xr_train              ndarray          60000x28x28x1: 47040000 elems, type `float32`, 188160000 bytes (179.443359375 Mb)\n",
      "y                     Tensor           Tensor(\"Placeholder:0\", s<...>e=(?, 10), dtype=float32)\n",
      "yr_test               ndarray          10000x10: 100000 elems, type `float32`, 400000 bytes (390.625 kb)\n",
      "yr_train              ndarray          60000x10: 600000 elems, type `float32`, 2400000 bytes (2.288818359375 Mb)\n"
     ]
    }
   ],
   "source": [
    "%whos"
   ]
  }
 ],
 "metadata": {
  "kernelspec": {
   "display_name": "Python 3",
   "language": "python",
   "name": "python3"
  },
  "language_info": {
   "codemirror_mode": {
    "name": "ipython",
    "version": 3
   },
   "file_extension": ".py",
   "mimetype": "text/x-python",
   "name": "python",
   "nbconvert_exporter": "python",
   "pygments_lexer": "ipython3",
   "version": "3.5.6"
  }
 },
 "nbformat": 4,
 "nbformat_minor": 2
}
